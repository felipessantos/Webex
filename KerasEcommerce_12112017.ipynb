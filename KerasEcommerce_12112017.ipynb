{
 "cells": [
  {
   "cell_type": "markdown",
   "metadata": {},
   "source": [
    "### imports"
   ]
  },
  {
   "cell_type": "code",
   "execution_count": 1,
   "metadata": {
    "collapsed": false
   },
   "outputs": [],
   "source": [
    "import os\n",
    "import re\n",
    "\n",
    "import pandas as pd\n",
    "import numpy as np\n",
    "\n",
    "labels_arq = './base_treino.csv'\n",
    "data_dir = './base_treino/'"
   ]
  },
  {
   "cell_type": "markdown",
   "metadata": {},
   "source": [
    "### lendo labels"
   ]
  },
  {
   "cell_type": "code",
   "execution_count": 2,
   "metadata": {
    "collapsed": false
   },
   "outputs": [],
   "source": [
    "labels = pd.read_csv(labels_arq, sep=';', header=None)\n",
    "labels.columns = ['id', 'url', '_label_']\n",
    "labels.set_index('id', inplace = True)"
   ]
  },
  {
   "cell_type": "code",
   "execution_count": 3,
   "metadata": {
    "collapsed": false
   },
   "outputs": [
    {
     "data": {
      "text/plain": [
       "101674"
      ]
     },
     "execution_count": 3,
     "metadata": {},
     "output_type": "execute_result"
    }
   ],
   "source": [
    "# total de labels\n",
    "len(labels)"
   ]
  },
  {
   "cell_type": "code",
   "execution_count": 4,
   "metadata": {
    "collapsed": false
   },
   "outputs": [
    {
     "data": {
      "text/html": [
       "<div>\n",
       "<table border=\"1\" class=\"dataframe\">\n",
       "  <thead>\n",
       "    <tr style=\"text-align: right;\">\n",
       "      <th></th>\n",
       "      <th>url</th>\n",
       "      <th>_label_</th>\n",
       "    </tr>\n",
       "    <tr>\n",
       "      <th>id</th>\n",
       "      <th></th>\n",
       "      <th></th>\n",
       "    </tr>\n",
       "  </thead>\n",
       "  <tbody>\n",
       "    <tr>\n",
       "      <th>74019</th>\n",
       "      <td>ecosense.com.br</td>\n",
       "      <td>Food and Nutrition</td>\n",
       "    </tr>\n",
       "  </tbody>\n",
       "</table>\n",
       "</div>"
      ],
      "text/plain": [
       "                   url             _label_\n",
       "id                                        \n",
       "74019  ecosense.com.br  Food and Nutrition"
      ]
     },
     "execution_count": 4,
     "metadata": {},
     "output_type": "execute_result"
    }
   ],
   "source": [
    "labels.sample()"
   ]
  },
  {
   "cell_type": "code",
   "execution_count": 5,
   "metadata": {
    "collapsed": false
   },
   "outputs": [],
   "source": [
    "Dominios_Ecommerce = './Dominios_Ecommerce.csv'\n",
    "labels_ecommerce = pd.read_csv(Dominios_Ecommerce\n",
    "                               , error_bad_lines = False\n",
    "                               , sep=';'\n",
    "                               , encoding='latin-1'\n",
    "                               , header = 0)\n",
    "\n",
    "labels_ecommerce.rename(columns= {'Dominio': 'url'}, inplace= True)\n",
    "labels_ecommerce.rename(columns= {'flag_ecommerce': '_label_ecommerce'}, inplace= True)"
   ]
  },
  {
   "cell_type": "code",
   "execution_count": 6,
   "metadata": {
    "collapsed": false
   },
   "outputs": [
    {
     "data": {
      "text/plain": [
       "175287"
      ]
     },
     "execution_count": 6,
     "metadata": {},
     "output_type": "execute_result"
    }
   ],
   "source": [
    "# total de labels\n",
    "len(labels_ecommerce)"
   ]
  },
  {
   "cell_type": "code",
   "execution_count": 7,
   "metadata": {
    "collapsed": false
   },
   "outputs": [
    {
     "data": {
      "text/html": [
       "<div>\n",
       "<table border=\"1\" class=\"dataframe\">\n",
       "  <thead>\n",
       "    <tr style=\"text-align: right;\">\n",
       "      <th></th>\n",
       "      <th>url</th>\n",
       "      <th>_label_ecommerce</th>\n",
       "      <th>ecommerce</th>\n",
       "      <th>nota</th>\n",
       "    </tr>\n",
       "  </thead>\n",
       "  <tbody>\n",
       "    <tr>\n",
       "      <th>156785</th>\n",
       "      <td>revisandotextos.com.br</td>\n",
       "      <td>0</td>\n",
       "      <td>No</td>\n",
       "      <td>51.0</td>\n",
       "    </tr>\n",
       "  </tbody>\n",
       "</table>\n",
       "</div>"
      ],
      "text/plain": [
       "                           url  _label_ecommerce ecommerce  nota\n",
       "156785  revisandotextos.com.br                 0        No  51.0"
      ]
     },
     "execution_count": 7,
     "metadata": {},
     "output_type": "execute_result"
    }
   ],
   "source": [
    "labels_ecommerce.sample()"
   ]
  },
  {
   "cell_type": "code",
   "execution_count": 8,
   "metadata": {
    "collapsed": true
   },
   "outputs": [],
   "source": [
    "# transforma os labels para int\n",
    "from sklearn.preprocessing import LabelEncoder\n",
    "\n",
    "le = LabelEncoder()\n",
    "labels['_label_'] = le.fit_transform(labels._label_)"
   ]
  },
  {
   "cell_type": "code",
   "execution_count": 9,
   "metadata": {
    "collapsed": false
   },
   "outputs": [
    {
     "data": {
      "text/plain": [
       "array(['Adult', 'Art - Entertainment ', 'Beauty and Fashion - Health',\n",
       "       'Electronics',\n",
       "       'Finance - IT-services and Telecom - Multimedia - Work - Government and Society ',\n",
       "       'Food and Nutrition', 'Home and Garden - Nature',\n",
       "       'Leisure - Sports', 'Science and Education', 'Travel and Transport'], dtype=object)"
      ]
     },
     "execution_count": 9,
     "metadata": {},
     "output_type": "execute_result"
    }
   ],
   "source": [
    "le.classes_"
   ]
  },
  {
   "cell_type": "code",
   "execution_count": 10,
   "metadata": {
    "collapsed": true
   },
   "outputs": [],
   "source": [
    "labels_ecommerce = pd.merge(labels_ecommerce, labels, how='inner', on=['url'])"
   ]
  },
  {
   "cell_type": "code",
   "execution_count": 11,
   "metadata": {
    "collapsed": false
   },
   "outputs": [
    {
     "data": {
      "text/plain": [
       "101674"
      ]
     },
     "execution_count": 11,
     "metadata": {},
     "output_type": "execute_result"
    }
   ],
   "source": [
    "# total de labels\n",
    "len(labels_ecommerce)"
   ]
  },
  {
   "cell_type": "code",
   "execution_count": 12,
   "metadata": {
    "collapsed": false
   },
   "outputs": [
    {
     "data": {
      "text/html": [
       "<div>\n",
       "<table border=\"1\" class=\"dataframe\">\n",
       "  <thead>\n",
       "    <tr style=\"text-align: right;\">\n",
       "      <th></th>\n",
       "      <th>url</th>\n",
       "      <th>_label_ecommerce</th>\n",
       "      <th>ecommerce</th>\n",
       "      <th>nota</th>\n",
       "      <th>_label_</th>\n",
       "    </tr>\n",
       "  </thead>\n",
       "  <tbody>\n",
       "    <tr>\n",
       "      <th>0</th>\n",
       "      <td>mygconsultoria.com.br</td>\n",
       "      <td>0</td>\n",
       "      <td>No</td>\n",
       "      <td>25.0</td>\n",
       "      <td>4</td>\n",
       "    </tr>\n",
       "    <tr>\n",
       "      <th>1</th>\n",
       "      <td>m4web.com.br</td>\n",
       "      <td>0</td>\n",
       "      <td>No</td>\n",
       "      <td>20.0</td>\n",
       "      <td>4</td>\n",
       "    </tr>\n",
       "    <tr>\n",
       "      <th>2</th>\n",
       "      <td>ccsciadalimpeza.com.br</td>\n",
       "      <td>0</td>\n",
       "      <td>No</td>\n",
       "      <td>17.0</td>\n",
       "      <td>4</td>\n",
       "    </tr>\n",
       "    <tr>\n",
       "      <th>3</th>\n",
       "      <td>centroirai.com.br</td>\n",
       "      <td>0</td>\n",
       "      <td>No</td>\n",
       "      <td>22.0</td>\n",
       "      <td>7</td>\n",
       "    </tr>\n",
       "    <tr>\n",
       "      <th>4</th>\n",
       "      <td>gugli.com.br</td>\n",
       "      <td>0</td>\n",
       "      <td>No</td>\n",
       "      <td>20.0</td>\n",
       "      <td>4</td>\n",
       "    </tr>\n",
       "  </tbody>\n",
       "</table>\n",
       "</div>"
      ],
      "text/plain": [
       "                      url  _label_ecommerce ecommerce  nota  _label_\n",
       "0   mygconsultoria.com.br                 0        No  25.0        4\n",
       "1            m4web.com.br                 0        No  20.0        4\n",
       "2  ccsciadalimpeza.com.br                 0        No  17.0        4\n",
       "3       centroirai.com.br                 0        No  22.0        7\n",
       "4            gugli.com.br                 0        No  20.0        4"
      ]
     },
     "execution_count": 12,
     "metadata": {},
     "output_type": "execute_result"
    }
   ],
   "source": [
    "labels_ecommerce.head()"
   ]
  },
  {
   "cell_type": "markdown",
   "metadata": {},
   "source": [
    "### lendo homepages"
   ]
  },
  {
   "cell_type": "code",
   "execution_count": 13,
   "metadata": {
    "collapsed": false
   },
   "outputs": [
    {
     "data": {
      "text/plain": [
       "101677"
      ]
     },
     "execution_count": 13,
     "metadata": {},
     "output_type": "execute_result"
    }
   ],
   "source": [
    "# quantidade de homepages\n",
    "len(os.listdir(data_dir))"
   ]
  },
  {
   "cell_type": "code",
   "execution_count": 14,
   "metadata": {
    "collapsed": true
   },
   "outputs": [],
   "source": [
    "os.chdir(data_dir)\n",
    "lista_arquivos = os.listdir('.')"
   ]
  },
  {
   "cell_type": "code",
   "execution_count": 15,
   "metadata": {
    "collapsed": false
   },
   "outputs": [
    {
     "name": "stdout",
     "output_type": "stream",
     "text": []
    }
   ],
   "source": [
    "# carregando as homes \n",
    "\n",
    "df_features = []\n",
    "for idx, home in enumerate(lista_arquivos):\n",
    "    with open(home, 'rb') as fp:\n",
    "        df_features.append((home, fp.read()))\n",
    "    if not idx % 1000: print(idx, 'homes lidas \\r', end=\"\\r\", flush=True)\n",
    "else:\n",
    "    print('FIM:', idx, 'homes lidas', end=\"\\r\", flush=True)\n",
    "\n",
    "df_features = pd.DataFrame(df_features, )\n",
    "df_features.columns = ['url', 'conteudo']\n",
    "\n",
    "df_features = pd.merge(df_features, labels_ecommerce)\n",
    "#df_features.drop(['url', 'ecommerce', 'nota', '_label_'], axis = 1, inplace = True)\n",
    "df_features.drop(['ecommerce', 'nota', '_label_'], axis = 1, inplace = True)"
   ]
  },
  {
   "cell_type": "code",
   "execution_count": 16,
   "metadata": {
    "collapsed": true
   },
   "outputs": [],
   "source": [
    "df_features.rename(columns= {'_label_ecommerce': '_label_'}, inplace= True)"
   ]
  },
  {
   "cell_type": "code",
   "execution_count": 17,
   "metadata": {
    "collapsed": false
   },
   "outputs": [
    {
     "data": {
      "text/html": [
       "<div>\n",
       "<table border=\"1\" class=\"dataframe\">\n",
       "  <thead>\n",
       "    <tr style=\"text-align: right;\">\n",
       "      <th></th>\n",
       "      <th>url</th>\n",
       "      <th>conteudo</th>\n",
       "      <th>_label_</th>\n",
       "    </tr>\n",
       "  </thead>\n",
       "  <tbody>\n",
       "    <tr>\n",
       "      <th>16587</th>\n",
       "      <td>cardiocurso.com.br</td>\n",
       "      <td>b'cardiocurso.com.br\\n\\n&lt;!DOCTYPE HTML PUBLIC ...</td>\n",
       "      <td>0</td>\n",
       "    </tr>\n",
       "  </tbody>\n",
       "</table>\n",
       "</div>"
      ],
      "text/plain": [
       "                      url                                           conteudo  \\\n",
       "16587  cardiocurso.com.br  b'cardiocurso.com.br\\n\\n<!DOCTYPE HTML PUBLIC ...   \n",
       "\n",
       "       _label_  \n",
       "16587        0  "
      ]
     },
     "execution_count": 17,
     "metadata": {},
     "output_type": "execute_result"
    }
   ],
   "source": [
    "df_features.sample()"
   ]
  },
  {
   "cell_type": "markdown",
   "metadata": {},
   "source": [
    "### Filtrar sites não encontrados"
   ]
  },
  {
   "cell_type": "code",
   "execution_count": 18,
   "metadata": {
    "collapsed": false
   },
   "outputs": [
    {
     "name": "stdout",
     "output_type": "stream",
     "text": [
      "Num. total sites: 101674\n",
      "Num. sites não achados: 15903\n"
     ]
    }
   ],
   "source": [
    "#Filtrar html não achados\n",
    "init_size = len(df_features['_label_'])\n",
    "print('Num. total sites: '+str(init_size))\n",
    "df_features = df_features[df_features.apply(lambda x: (not 'Internal Server Error' in x.conteudo.decode('utf-8')) & (not '404' in x.conteudo.decode('utf-8')), axis = 1)]\n",
    "print('Num. sites não achados: '+str(init_size-len(df_features['_label_'])))"
   ]
  },
  {
   "cell_type": "code",
   "execution_count": 19,
   "metadata": {
    "collapsed": true
   },
   "outputs": [],
   "source": [
    "# para debug, e\n",
    "# testar rapidamente diversos algoritmos\n",
    "df_features = df_features.sample(frac = 0.2)"
   ]
  },
  {
   "cell_type": "code",
   "execution_count": 20,
   "metadata": {
    "collapsed": false
   },
   "outputs": [
    {
     "data": {
      "text/html": [
       "<div>\n",
       "<table border=\"1\" class=\"dataframe\">\n",
       "  <thead>\n",
       "    <tr style=\"text-align: right;\">\n",
       "      <th></th>\n",
       "      <th>url</th>\n",
       "      <th>conteudo</th>\n",
       "      <th>_label_</th>\n",
       "    </tr>\n",
       "  </thead>\n",
       "  <tbody>\n",
       "    <tr>\n",
       "      <th>47812</th>\n",
       "      <td>imobiliariaorleans.com.br</td>\n",
       "      <td>b'imobiliariaorleans.com.br\\n\\n&lt;!DOCTYPE html&gt;...</td>\n",
       "      <td>0</td>\n",
       "    </tr>\n",
       "  </tbody>\n",
       "</table>\n",
       "</div>"
      ],
      "text/plain": [
       "                             url  \\\n",
       "47812  imobiliariaorleans.com.br   \n",
       "\n",
       "                                                conteudo  _label_  \n",
       "47812  b'imobiliariaorleans.com.br\\n\\n<!DOCTYPE html>...        0  "
      ]
     },
     "execution_count": 20,
     "metadata": {},
     "output_type": "execute_result"
    }
   ],
   "source": [
    "df_features.sample()"
   ]
  },
  {
   "cell_type": "markdown",
   "metadata": {},
   "source": [
    "### Limpando dataset"
   ]
  },
  {
   "cell_type": "code",
   "execution_count": 21,
   "metadata": {
    "collapsed": true
   },
   "outputs": [],
   "source": [
    "RE_D = re.compile('\\d')\n",
    "def nao_tem_numero(string):\n",
    "    return not bool(RE_D.search(string))"
   ]
  },
  {
   "cell_type": "code",
   "execution_count": 22,
   "metadata": {
    "collapsed": true
   },
   "outputs": [],
   "source": [
    "from nltk.stem import SnowballStemmer\n",
    "stemmer = SnowballStemmer('portuguese')"
   ]
  },
  {
   "cell_type": "code",
   "execution_count": 23,
   "metadata": {
    "collapsed": false
   },
   "outputs": [],
   "source": [
    "# limpeza simples de tags html, etc...\n",
    "# stemming\n",
    "from bs4 import BeautifulSoup\n",
    "\n",
    "#exclusao = set('!#$%&*+,-./:;<=>?@[\\]^_`{|}~\\n\\t.1234567890')\n",
    "\n",
    "def limpeza_numeros(txt):\n",
    "    exclusao = set('1234567890')\n",
    "    lista_retorno = [value for value in  txt.split(' ') if (len(set(value) & exclusao) is 0)]\n",
    "    return ' '.join(lista_retorno)\n",
    "    \n",
    "def limpeza_beatiful_soup(html):\n",
    "    soup = BeautifulSoup(html, 'html.parser')\n",
    "\n",
    "    # kill all script and style elements\n",
    "    for script in soup([\"script\", \"style\"]):\n",
    "        script.extract()    # rip it out\n",
    "\n",
    "    # get text\n",
    "    text = soup.get_text()\n",
    "\n",
    "    # break into lines and remove leading and trailing space on each\n",
    "    lines = (line.strip() for line in text.splitlines())\n",
    "    # break multi-headlines into a line each\n",
    "    chunks = (phrase.strip() for line in lines for phrase in line.split(\"  \"))\n",
    "    # drop blank lines\n",
    "    text = '\\n'.join(chunk for chunk in chunks if chunk)\n",
    "    # drop numbers, '.', left '\\n' and left '\\t'\n",
    "    text = limpeza_numeros(text.replace('\\n',' ').replace('\\t', ' ').replace('.','').replace('-','').replace('/',''))\n",
    "    #Stem algorithim\n",
    "    #text = ' '.join([stemmer.stem(t) for t in text.split(' ')])\n",
    "    \n",
    "    return text.lower()"
   ]
  },
  {
   "cell_type": "code",
   "execution_count": 24,
   "metadata": {
    "collapsed": false,
    "scrolled": true
   },
   "outputs": [
    {
     "name": "stdout",
     "output_type": "stream",
     "text": [
      "Wall time: 5min 49s\n"
     ]
    }
   ],
   "source": [
    "%%time\n",
    "df_features['conteudo'] = df_features.conteudo.apply(lambda x: limpeza_beatiful_soup(x))"
   ]
  },
  {
   "cell_type": "code",
   "execution_count": 25,
   "metadata": {
    "collapsed": false
   },
   "outputs": [
    {
     "data": {
      "text/plain": [
       "'justintimecargocombr just in time: logística login senha home empresa serviços notícias links downloads cotação vídeos trabalhe conosco contato notícias china passa ser a principal importadora da bolivia importações de minério da china devem subir embarques de carne de frango recuam em atendimento online índices econômicos fale com o presidente © copyright just in time'"
      ]
     },
     "execution_count": 25,
     "metadata": {},
     "output_type": "execute_result"
    }
   ],
   "source": [
    "# ver amostra e checar oportunidades de melhorar a limpeza\n",
    "df_features.conteudo.sample().values[0]"
   ]
  },
  {
   "cell_type": "markdown",
   "metadata": {},
   "source": [
    "### Extraindo as features do texto"
   ]
  },
  {
   "cell_type": "code",
   "execution_count": 26,
   "metadata": {
    "collapsed": true
   },
   "outputs": [],
   "source": [
    "stop_words_list = ['de', 'a', 'o', 'que', 'e', 'do', 'da', 'em', 'Em', 'um', 'para', 'é', 'com', \n",
    "                   'não', 'uma', 'os', 'no', 'se', 'na', 'por', 'mais', 'as', 'dos', 'como', 'mas', 'foi', \n",
    "                   'ao', 'ele', 'das', 'tem', 'à', 'seu', 'sua', 'ou', 'ser', 'quando', 'muito', 'há', \n",
    "                   'nos', 'já', 'está', 'eu', 'também', 'só', 'pelo', 'pela', 'até', 'isso', 'ela', 'entre', \n",
    "                   'era', 'depois', 'sem', 'mesmo', 'aos', 'ter', 'seus', 'quem', 'nas', 'me', 'esse', 'eles', \n",
    "                   'estão', 'você', 'tinha', 'foram', 'essa', 'num', 'nem', 'suas', 'meu', 'às', 'minha', \n",
    "                   'têm', 'numa', 'pelos', 'elas', 'havia', 'seja', 'qual', 'será', 'nós', 'tenho', 'lhe', \n",
    "                   'deles', 'essas', 'esses', 'pelas', 'este', 'fosse', 'dele', 'tu', 'te', 'vocês', 'vos', \n",
    "                   'lhes', 'meus', 'minhas', 'teu', 'tua', 'teus', 'tuas', 'nosso', 'nossa', 'nossos', \n",
    "                   'nossas', 'dela', 'delas', 'esta', 'estes', 'estas', 'aquele', 'aquela', 'aqueles', \n",
    "                   'aquelas', 'isto', 'aquilo', 'estou', 'está', 'estamos', 'estão', 'estive', 'esteve', \n",
    "                   'estivemos', 'estiveram', 'estava', 'estávamos', 'estavam', 'estivera', 'estivéramos', \n",
    "                   'esteja', 'estejamos', 'estejam', 'estivesse', 'estivéssemos', 'estivessemos', 'estivessem', 'estiver', \n",
    "                   'estivermos', 'estiverem', 'hei', 'há', 'havemos', 'hão', 'houve', 'houvemos', 'houveram', \n",
    "                   'houvera', 'houvéramos', 'haja', 'hajamos', 'hajam', 'houvesse', 'houvéssemos', 'houvessem', \n",
    "                   'houver', 'houvermos', 'houverem', 'houverei', 'houverá', 'houveremos', 'houverão', \n",
    "                   'houveria', 'houveríamos', 'houveriam', 'sou', 'somos', 'são', 'era', 'éramos', 'eram', \n",
    "                   'fui', 'foi', 'fomos', 'foram', 'fora', 'fôramos', 'seja', 'sejamos', 'sejam', 'fosse', \n",
    "                   'fôssemos', 'fossem', 'for', 'formos', 'forem', 'serei', 'será', 'seremos', 'serão', 'seria', \n",
    "                   'seríamos', 'seriam', 'tenho', 'tem', 'temos', 'tém', 'tinha', 'tínhamos', 'tinham', 'tive', \n",
    "                   'teve', 'tivemos', 'tiveram', 'tivera', 'tivéramos', 'tenha', 'tenhamos', 'tenham', 'tivesse', \n",
    "                   'tivéssemos', 'tivessem', 'tiver', 'tivermos', 'tiverem', 'terei', 'terá', 'teremos', 'terão', \n",
    "                   'teria', 'teríamos', 'teriam', 'a', 'about', 'above', 'after', 'again', 'against', 'all', \n",
    "                   'am', 'an', 'and', 'any', 'are', 'arent', 'as', 'at', 'be', 'because', 'been', 'before', \n",
    "                   'being', 'below', 'between', 'both', 'but', 'by', 'cant', 'cannot', 'could', 'couldnt', \n",
    "                   'did', 'didnt', 'do', 'does', 'doesnt', 'doing', 'dont', 'down', 'during', 'each', 'few', \n",
    "                   'for', 'from', 'further', 'had', 'hadnt', 'has', 'hasnt', 'have', 'havent', 'having', 'he', \n",
    "                   'hed', 'hes', 'her', 'here', 'heres', 'hers', 'herself', 'him', 'himself', 'his', 'how', \n",
    "                   'hows', 'i', 'id', 'im', 'ive', 'if', 'in', 'into', 'is', 'isnt', 'it', 'its', 'its', \n",
    "                   'itself', 'lets', 'me', 'more', 'most', 'mustnt', 'my', 'myself', 'no', 'nor', 'not', 'of', \n",
    "                   'off', 'on', 'once', 'only', 'or', 'other', 'ought', 'our', 'ours', 'ourselves', 'out', 'over', \n",
    "                   'own', 'same', 'shant', 'she', 'shed', 'shell', 'shes', 'should', 'shouldnt', 'so', 'some', \n",
    "                   'such', 'than', 'that', 'thats', 'the', 'their', 'theirs', 'them', 'themselves', 'then', 'there', \n",
    "                   'theres', 'these', 'they', 'theyd', 'theyll', 'theyre', 'theyve', 'this', 'those', 'through', \n",
    "                   'to', 'too', 'under', 'until', 'up', 'very', 'was', 'wasnt', 'we', 'wed', 'well', 'were', \n",
    "                   'weve', 'were', 'werent', 'what', 'whats', 'when', 'whens', 'where', 'wheres', 'which', 'while', \n",
    "                   'who', 'whos', 'whom', 'why', 'whys', 'with', 'wont', 'would', 'wouldnt', 'you', 'youd', 'youll', \n",
    "                   'youre', 'youve', 'your', 'yours', 'yourself', 'yourselves']"
   ]
  },
  {
   "cell_type": "code",
   "execution_count": 27,
   "metadata": {
    "collapsed": false
   },
   "outputs": [],
   "source": [
    "from sklearn.feature_extraction.text import CountVectorizer, TfidfVectorizer\n",
    "\n",
    "cv = CountVectorizer(strip_accents='ascii', min_df = 40, max_df = 0.5, stop_words = stop_words_list)\n",
    "vec_cv = cv\n",
    "df_tokens_cv = pd.DataFrame(vec_cv.fit_transform(df_features.conteudo).toarray(),\n",
    "                         index = df_features.index).rename(columns = {v:k for k,v in vec_cv.vocabulary_.items()})\n",
    "\n",
    "# MODEL`S INPUTS\n",
    "df_features_cv = pd.concat([df_features, df_tokens_cv], axis = 1).drop('conteudo', axis = 1)"
   ]
  },
  {
   "cell_type": "code",
   "execution_count": 28,
   "metadata": {
    "collapsed": true
   },
   "outputs": [],
   "source": [
    "del df_features\n",
    "del df_tokens_cv"
   ]
  },
  {
   "cell_type": "code",
   "execution_count": 29,
   "metadata": {
    "collapsed": false
   },
   "outputs": [],
   "source": [
    "lista_aux = list(df_features_cv.columns)"
   ]
  },
  {
   "cell_type": "code",
   "execution_count": 30,
   "metadata": {
    "collapsed": false
   },
   "outputs": [
    {
     "data": {
      "text/plain": [
       "7752"
      ]
     },
     "execution_count": 30,
     "metadata": {},
     "output_type": "execute_result"
    }
   ],
   "source": [
    "len(lista_aux)"
   ]
  },
  {
   "cell_type": "code",
   "execution_count": 31,
   "metadata": {
    "collapsed": false
   },
   "outputs": [
    {
     "data": {
      "text/plain": [
       "0.04022385449457853"
      ]
     },
     "execution_count": 31,
     "metadata": {},
     "output_type": "execute_result"
    }
   ],
   "source": [
    "df_features_cv._label_.mean()"
   ]
  },
  {
   "cell_type": "code",
   "execution_count": 32,
   "metadata": {
    "collapsed": false
   },
   "outputs": [
    {
     "name": "stdout",
     "output_type": "stream",
     "text": [
      "0.06569896234114492\n",
      "0.08126384516730792\n",
      "0.09274804710271657\n",
      "0.09799463681940072\n",
      "0.09799463681940072\n",
      "0.09851929579106913\n",
      "0.10726361198554273\n",
      "0.11198554273055847\n",
      "0.12084644980762504\n",
      "0.12119622245540398\n",
      "0.13023201585636004\n",
      "0.1316894018887723\n",
      "0.1322723563017372\n"
     ]
    }
   ],
   "source": [
    "df_features_cv['_label_'] = [1 if carrinho != 0 else label for carrinho, label in zip\n",
    "                             (df_features_cv.carrinho, df_features_cv._label_)]\n",
    "print(df_features_cv._label_.mean())\n",
    "\n",
    "df_features_cv['_label_'] = [1 if (loja>=1)&(online>=1) else label for label, loja, online in zip \n",
    "                             (df_features_cv._label_, df_features_cv.loja, df_features_cv.online)]\n",
    "print(df_features_cv._label_.mean())\n",
    "\n",
    "df_features_cv['_label_'] = [1 if (loja>=1)&(virtual>=1) else label for label, loja, virtual in zip\n",
    "                             (df_features_cv._label_, df_features_cv.loja, df_features_cv.virtual)]\n",
    "print(df_features_cv._label_.mean())\n",
    "\n",
    "df_features_cv['_label_'] = [1 if (comprar>=1)&(online>=1) else label for label, comprar, online in zip\n",
    "                             (df_features_cv._label_, df_features_cv.comprar, df_features_cv.online)]\n",
    "print(df_features_cv._label_.mean())\n",
    "\n",
    "df_features_cv['_label_'] = [1 if (outlet>=1)&(virtual>=1) else label for label, outlet, virtual in zip\n",
    "                             (df_features_cv._label_, df_features_cv.outlet, df_features_cv.virtual)]\n",
    "print(df_features_cv._label_.mean())\n",
    "\n",
    "df_features_cv['_label_'] = [1 if (outlet>=1)&(online>=1) else label for label, outlet, online in zip\n",
    "                             (df_features_cv._label_, df_features_cv.outlet, df_features_cv.online)]\n",
    "print(df_features_cv._label_.mean())\n",
    "\n",
    "df_features_cv['_label_'] = [1 if (prazo>=1)&(entrega>=1) else label for label, prazo, entrega in zip\n",
    "                             (df_features_cv._label_, df_features_cv.prazo, df_features_cv.entrega)]\n",
    "print(df_features_cv._label_.mean())\n",
    "\n",
    "df_features_cv['_label_'] = [1 if frete>=1 else label for label, frete in zip\n",
    "                             (df_features_cv._label_, df_features_cv.frete)]\n",
    "print(df_features_cv._label_.mean())\n",
    "\n",
    "\n",
    "df_features_cv['_label_'] = [1 if (vendas>=1)&(online>=1) else label for label, vendas, online in zip\n",
    "                             (df_features_cv._label_, df_features_cv.vendas, df_features_cv.online)]\n",
    "print(df_features_cv._label_.mean())\n",
    "\n",
    "df_features_cv['_label_'] = [1 if (finalizar>=1)&(pedido>=1) else label for label, finalizar, pedido in zip\n",
    "                             (df_features_cv._label_, df_features_cv.finalizar, df_features_cv.pedido)]\n",
    "print(df_features_cv._label_.mean())\n",
    "\n",
    "df_features_cv['_label_'] = [1 if (formas>=1)&(pagamento>=1) else label for label, formas, pagamento in zip\n",
    "                             (df_features_cv._label_, df_features_cv.formas, df_features_cv.pagamento)]\n",
    "print(df_features_cv._label_.mean())\n",
    "\n",
    "df_features_cv['_label_'] = [1 if checkout>=1 else label for label, checkout in zip\n",
    "                             (df_features_cv._label_, df_features_cv.checkout)]\n",
    "print(df_features_cv._label_.mean())\n",
    "\n",
    "df_features_cv['_label_'] = [1 if devolucoes>=1 else label for label, devolucoes in zip\n",
    "                             (df_features_cv._label_, df_features_cv.devolucoes)]\n",
    "print(df_features_cv._label_.mean())"
   ]
  },
  {
   "cell_type": "code",
   "execution_count": 42,
   "metadata": {
    "collapsed": false
   },
   "outputs": [
    {
     "name": "stdout",
     "output_type": "stream",
     "text": [
      "0.14993587501457387\n",
      "0.14993587501457387\n",
      "0.14993587501457387\n",
      "0.14993587501457387\n",
      "0.14993587501457387\n",
      "0.14993587501457387\n",
      "0.14993587501457387\n",
      "0.14993587501457387\n",
      "0.14993587501457387\n",
      "0.14993587501457387\n",
      "0.14993587501457387\n",
      "0.14993587501457387\n",
      "0.14993587501457387\n",
      "0.14993587501457387\n",
      "0.14993587501457387\n",
      "0.14993587501457387\n",
      "0.14993587501457387\n",
      "0.14993587501457387\n",
      "0.14993587501457387\n",
      "0.14993587501457387\n",
      "0.14993587501457387\n",
      "0.14993587501457387\n",
      "0.14993587501457387\n",
      "0.14993587501457387\n",
      "0.14993587501457387\n",
      "0.14993587501457387\n",
      "0.14993587501457387\n",
      "0.14993587501457387\n",
      "0.14993587501457387\n",
      "0.14993587501457387\n",
      "0.14993587501457387\n",
      "0.14993587501457387\n",
      "0.14993587501457387\n",
      "0.14993587501457387\n",
      "0.14993587501457387\n",
      "0.14993587501457387\n",
      "0.14993587501457387\n",
      "0.14993587501457387\n",
      "0.14993587501457387\n",
      "0.14993587501457387\n",
      "0.14993587501457387\n",
      "0.14993587501457387\n",
      "0.14993587501457387\n",
      "0.14993587501457387\n",
      "0.14993587501457387\n",
      "0.14993587501457387\n",
      "0.14993587501457387\n",
      "0.14993587501457387\n",
      "0.14993587501457387\n",
      "0.14993587501457387\n",
      "0.14993587501457387\n",
      "0.14993587501457387\n",
      "0.14993587501457387\n",
      "0.14993587501457387\n",
      "0.14993587501457387\n",
      "0.14993587501457387\n",
      "0.14993587501457387\n",
      "0.14993587501457387\n",
      "0.14993587501457387\n",
      "0.14993587501457387\n",
      "0.14993587501457387\n",
      "0.14993587501457387\n",
      "0.14993587501457387\n",
      "0.14993587501457387\n",
      "0.14993587501457387\n",
      "0.14993587501457387\n",
      "0.14993587501457387\n",
      "0.14993587501457387\n",
      "0.14993587501457387\n",
      "0.14993587501457387\n",
      "0.14993587501457387\n",
      "0.14993587501457387\n",
      "0.14993587501457387\n",
      "0.14993587501457387\n",
      "0.14993587501457387\n",
      "0.14993587501457387\n",
      "0.14993587501457387\n",
      "0.14993587501457387\n",
      "0.14993587501457387\n",
      "0.14993587501457387\n",
      "0.14993587501457387\n",
      "0.1533753060510668\n",
      "0.1534336014923633\n",
      "0.1535501923749563\n",
      "0.15372507869884575\n",
      "0.15372507869884575\n",
      "0.15378337414014223\n",
      "0.15378337414014223\n",
      "0.15389996502273523\n",
      "0.15389996502273523\n",
      "0.15395826046403172\n",
      "0.1540165559053282\n",
      "0.15424973767051417\n",
      "0.15436632855310714\n",
      "0.15454121487699662\n",
      "0.15454121487699662\n",
      "0.1546578057595896\n",
      "0.15489098752477556\n",
      "0.15500757840736853\n",
      "0.1552407601725545\n",
      "0.15535735105514747\n",
      "0.155415646496444\n",
      "0.155415646496444\n",
      "0.155415646496444\n",
      "0.15559053282033344\n",
      "0.15570712370292644\n",
      "0.1558237145855194\n",
      "0.15675644164626326\n",
      "0.15675644164626326\n",
      "0.15681473708755975\n",
      "0.15681473708755975\n",
      "0.15693132797015275\n",
      "0.15693132797015275\n",
      "0.15693132797015275\n",
      "0.15704791885274572\n",
      "0.15920485018071587\n",
      "0.15926314562201235\n",
      "0.15932144106330884\n",
      "0.15932144106330884\n"
     ]
    }
   ],
   "source": [
    "df_features_cv['_label_'] = [1 if (acido>=1)&(online>=1) else label for label, acido, online in zip (df_features_cv._label_, df_features_cv.acido, df_features_cv.online)]\n",
    "print(df_features_cv._label_.mean())\n",
    "df_features_cv['_label_'] = [1 if (acupuntura>=1)&(online>=1) else label for label, acupuntura, online in zip (df_features_cv._label_, df_features_cv.acupuntura, df_features_cv.online)]\n",
    "print(df_features_cv._label_.mean())\n",
    "df_features_cv['_label_'] = [1 if (adesivo>=1)&(online>=1) else label for label, adesivo, online in zip (df_features_cv._label_, df_features_cv.adesivo, df_features_cv.online)]\n",
    "print(df_features_cv._label_.mean())\n",
    "df_features_cv['_label_'] = [1 if (adesivos>=1)&(online>=1) else label for label, adesivos, online in zip (df_features_cv._label_, df_features_cv.adesivos, df_features_cv.online)]\n",
    "print(df_features_cv._label_.mean())\n",
    "df_features_cv['_label_'] = [1 if (agua>=1)&(online>=1) else label for label, agua, online in zip (df_features_cv._label_, df_features_cv.agua, df_features_cv.online)]\n",
    "print(df_features_cv._label_.mean())\n",
    "df_features_cv['_label_'] = [1 if (alcool>=1)&(online>=1) else label for label, alcool, online in zip (df_features_cv._label_, df_features_cv.alcool, df_features_cv.online)]\n",
    "print(df_features_cv._label_.mean())\n",
    "df_features_cv['_label_'] = [1 if (algodao>=1)&(online>=1) else label for label, algodao, online in zip (df_features_cv._label_, df_features_cv.algodao, df_features_cv.online)]\n",
    "print(df_features_cv._label_.mean())\n",
    "df_features_cv['_label_'] = [1 if (alimentacao>=1)&(online>=1) else label for label, alimentacao, online in zip (df_features_cv._label_, df_features_cv.alimentacao, df_features_cv.online)]\n",
    "print(df_features_cv._label_.mean())\n",
    "df_features_cv['_label_'] = [1 if (alimenticio>=1)&(online>=1) else label for label, alimenticio, online in zip (df_features_cv._label_, df_features_cv.alimenticio, df_features_cv.online)]\n",
    "print(df_features_cv._label_.mean())\n",
    "df_features_cv['_label_'] = [1 if (alimenticios>=1)&(online>=1) else label for label, alimenticios, online in zip (df_features_cv._label_, df_features_cv.alimenticios, df_features_cv.online)]\n",
    "print(df_features_cv._label_.mean())\n",
    "df_features_cv['_label_'] = [1 if (alimento>=1)&(online>=1) else label for label, alimento, online in zip (df_features_cv._label_, df_features_cv.alimento, df_features_cv.online)]\n",
    "print(df_features_cv._label_.mean())\n",
    "df_features_cv['_label_'] = [1 if (alimentos>=1)&(online>=1) else label for label, alimentos, online in zip (df_features_cv._label_, df_features_cv.alimentos, df_features_cv.online)]\n",
    "print(df_features_cv._label_.mean())\n",
    "df_features_cv['_label_'] = [1 if (aluminio>=1)&(online>=1) else label for label, aluminio, online in zip (df_features_cv._label_, df_features_cv.aluminio, df_features_cv.online)]\n",
    "print(df_features_cv._label_.mean())\n",
    "df_features_cv['_label_'] = [1 if (aparelho>=1)&(online>=1) else label for label, aparelho, online in zip (df_features_cv._label_, df_features_cv.aparelho, df_features_cv.online)]\n",
    "print(df_features_cv._label_.mean())\n",
    "df_features_cv['_label_'] = [1 if (aparelhos>=1)&(online>=1) else label for label, aparelhos, online in zip (df_features_cv._label_, df_features_cv.aparelhos, df_features_cv.online)]\n",
    "print(df_features_cv._label_.mean())\n",
    "df_features_cv['_label_'] = [1 if (arcondicionado>=1)&(online>=1) else label for label, arcondicionado, online in zip (df_features_cv._label_, df_features_cv.arcondicionado, df_features_cv.online)]\n",
    "print(df_features_cv._label_.mean())\n",
    "df_features_cv['_label_'] = [1 if (armarios>=1)&(online>=1) else label for label, armarios, online in zip (df_features_cv._label_, df_features_cv.armarios, df_features_cv.online)]\n",
    "print(df_features_cv._label_.mean())\n",
    "df_features_cv['_label_'] = [1 if (armas>=1)&(online>=1) else label for label, armas, online in zip (df_features_cv._label_, df_features_cv.armas, df_features_cv.online)]\n",
    "print(df_features_cv._label_.mean())\n",
    "df_features_cv['_label_'] = [1 if (aromas>=1)&(online>=1) else label for label, aromas, online in zip (df_features_cv._label_, df_features_cv.aromas, df_features_cv.online)]\n",
    "print(df_features_cv._label_.mean())\n",
    "df_features_cv['_label_'] = [1 if (artefatos>=1)&(online>=1) else label for label, artefatos, online in zip (df_features_cv._label_, df_features_cv.artefatos, df_features_cv.online)]\n",
    "print(df_features_cv._label_.mean())\n",
    "df_features_cv['_label_'] = [1 if (artes>=1)&(online>=1) else label for label, artes, online in zip (df_features_cv._label_, df_features_cv.artes, df_features_cv.online)]\n",
    "print(df_features_cv._label_.mean())\n",
    "df_features_cv['_label_'] = [1 if (atrativos>=1)&(online>=1) else label for label, atrativos, online in zip (df_features_cv._label_, df_features_cv.atrativos, df_features_cv.online)]\n",
    "print(df_features_cv._label_.mean())\n",
    "df_features_cv['_label_'] = [1 if (bandejas>=1)&(online>=1) else label for label, bandejas, online in zip (df_features_cv._label_, df_features_cv.bandejas, df_features_cv.online)]\n",
    "print(df_features_cv._label_.mean())\n",
    "df_features_cv['_label_'] = [1 if (baterias>=1)&(online>=1) else label for label, baterias, online in zip (df_features_cv._label_, df_features_cv.baterias, df_features_cv.online)]\n",
    "print(df_features_cv._label_.mean())\n",
    "df_features_cv['_label_'] = [1 if (bebidas>=1)&(online>=1) else label for label, bebidas, online in zip (df_features_cv._label_, df_features_cv.bebidas, df_features_cv.online)]\n",
    "print(df_features_cv._label_.mean())\n",
    "df_features_cv['_label_'] = [1 if (bermudas>=1)&(online>=1) else label for label, bermudas, online in zip (df_features_cv._label_, df_features_cv.bermudas, df_features_cv.online)]\n",
    "print(df_features_cv._label_.mean())\n",
    "df_features_cv['_label_'] = [1 if (bike>=1)&(online>=1) else label for label, bike, online in zip (df_features_cv._label_, df_features_cv.bike, df_features_cv.online)]\n",
    "print(df_features_cv._label_.mean())\n",
    "#df_features_cv['_label_'] = [1 if (blusas>=1)&(online>=1) else label for label, blusas, online in zip (df_features_cv._label_, df_features_cv.blusas, df_features_cv.online)]\n",
    "#print(df_features_cv._label_.mean())\n",
    "df_features_cv['_label_'] = [1 if (bolos>=1)&(online>=1) else label for label, bolos, online in zip (df_features_cv._label_, df_features_cv.bolos, df_features_cv.online)]\n",
    "print(df_features_cv._label_.mean())\n",
    "df_features_cv['_label_'] = [1 if (bolsas>=1)&(online>=1) else label for label, bolsas, online in zip (df_features_cv._label_, df_features_cv.bolsas, df_features_cv.online)]\n",
    "print(df_features_cv._label_.mean())\n",
    "df_features_cv['_label_'] = [1 if (bombas>=1)&(online>=1) else label for label, bombas, online in zip (df_features_cv._label_, df_features_cv.bombas, df_features_cv.online)]\n",
    "print(df_features_cv._label_.mean())\n",
    "df_features_cv['_label_'] = [1 if (bones>=1)&(online>=1) else label for label, bones, online in zip (df_features_cv._label_, df_features_cv.bones, df_features_cv.online)]\n",
    "print(df_features_cv._label_.mean())\n",
    "df_features_cv['_label_'] = [1 if (botas>=1)&(online>=1) else label for label, botas, online in zip (df_features_cv._label_, df_features_cv.botas, df_features_cv.online)]\n",
    "print(df_features_cv._label_.mean())\n",
    "df_features_cv['_label_'] = [1 if (brincadeiras>=1)&(online>=1) else label for label, brincadeiras, online in zip (df_features_cv._label_, df_features_cv.brincadeiras, df_features_cv.online)]\n",
    "print(df_features_cv._label_.mean())\n",
    "#df_features_cv['_label_'] = [1 if (brincos>=1)&(online>=1) else label for label, brincos, online in zip (df_features_cv._label_, df_features_cv.brincos, df_features_cv.online)]\n",
    "#print(df_features_cv._label_.mean())\n",
    "df_features_cv['_label_'] = [1 if (brindes>=1)&(online>=1) else label for label, brindes, online in zip (df_features_cv._label_, df_features_cv.brindes, df_features_cv.online)]\n",
    "print(df_features_cv._label_.mean())\n",
    "df_features_cv['_label_'] = [1 if (brinquedos>=1)&(online>=1) else label for label, brinquedos, online in zip (df_features_cv._label_, df_features_cv.brinquedos, df_features_cv.online)]\n",
    "print(df_features_cv._label_.mean())\n",
    "df_features_cv['_label_'] = [1 if (cabos>=1)&(online>=1) else label for label, cabos, online in zip (df_features_cv._label_, df_features_cv.cabos, df_features_cv.online)]\n",
    "print(df_features_cv._label_.mean())\n",
    "df_features_cv['_label_'] = [1 if (cadeiras>=1)&(online>=1) else label for label, cadeiras, online in zip (df_features_cv._label_, df_features_cv.cadeiras, df_features_cv.online)]\n",
    "print(df_features_cv._label_.mean())\n",
    "df_features_cv['_label_'] = [1 if (cadernos>=1)&(online>=1) else label for label, cadernos, online in zip (df_features_cv._label_, df_features_cv.cadernos, df_features_cv.online)]\n",
    "print(df_features_cv._label_.mean())\n",
    "df_features_cv['_label_'] = [1 if (caixas>=1)&(online>=1) else label for label, caixas, online in zip (df_features_cv._label_, df_features_cv.caixas, df_features_cv.online)]\n",
    "print(df_features_cv._label_.mean())\n",
    "df_features_cv['_label_'] = [1 if (calcados>=1)&(online>=1) else label for label, calcados, online in zip (df_features_cv._label_, df_features_cv.calcados, df_features_cv.online)]\n",
    "print(df_features_cv._label_.mean())\n",
    "df_features_cv['_label_'] = [1 if (calcas>=1)&(online>=1) else label for label, calcas, online in zip (df_features_cv._label_, df_features_cv.calcas, df_features_cv.online)]\n",
    "print(df_features_cv._label_.mean())\n",
    "df_features_cv['_label_'] = [1 if (caldas>=1)&(online>=1) else label for label, caldas, online in zip (df_features_cv._label_, df_features_cv.caldas, df_features_cv.online)]\n",
    "print(df_features_cv._label_.mean())\n",
    "df_features_cv['_label_'] = [1 if (camaras>=1)&(online>=1) else label for label, camaras, online in zip (df_features_cv._label_, df_features_cv.camaras, df_features_cv.online)]\n",
    "print(df_features_cv._label_.mean())\n",
    "df_features_cv['_label_'] = [1 if (cameras>=1)&(online>=1) else label for label, cameras, online in zip (df_features_cv._label_, df_features_cv.cameras, df_features_cv.online)]\n",
    "print(df_features_cv._label_.mean())\n",
    "df_features_cv['_label_'] = [1 if (caminhoes>=1)&(online>=1) else label for label, caminhoes, online in zip (df_features_cv._label_, df_features_cv.caminhoes, df_features_cv.online)]\n",
    "print(df_features_cv._label_.mean())\n",
    "df_features_cv['_label_'] = [1 if (camisas>=1)&(online>=1) else label for label, camisas, online in zip (df_features_cv._label_, df_features_cv.camisas, df_features_cv.online)]\n",
    "print(df_features_cv._label_.mean())\n",
    "df_features_cv['_label_'] = [1 if (camisetas>=1)&(online>=1) else label for label, camisetas, online in zip (df_features_cv._label_, df_features_cv.camisetas, df_features_cv.online)]\n",
    "print(df_features_cv._label_.mean())\n",
    "df_features_cv['_label_'] = [1 if (canecas>=1)&(online>=1) else label for label, canecas, online in zip (df_features_cv._label_, df_features_cv.canecas, df_features_cv.online)]\n",
    "print(df_features_cv._label_.mean())\n",
    "df_features_cv['_label_'] = [1 if (canetas>=1)&(online>=1) else label for label, canetas, online in zip (df_features_cv._label_, df_features_cv.canetas, df_features_cv.online)]\n",
    "print(df_features_cv._label_.mean())\n",
    "df_features_cv['_label_'] = [1 if (canoas>=1)&(online>=1) else label for label, canoas, online in zip (df_features_cv._label_, df_features_cv.canoas, df_features_cv.online)]\n",
    "print(df_features_cv._label_.mean())\n",
    "df_features_cv['_label_'] = [1 if (capas>=1)&(online>=1) else label for label, capas, online in zip (df_features_cv._label_, df_features_cv.capas, df_features_cv.online)]\n",
    "print(df_features_cv._label_.mean())\n",
    "df_features_cv['_label_'] = [1 if (carros>=1)&(online>=1) else label for label, carros, online in zip (df_features_cv._label_, df_features_cv.carros, df_features_cv.online)]\n",
    "print(df_features_cv._label_.mean())\n",
    "df_features_cv['_label_'] = [1 if (carteiras>=1)&(online>=1) else label for label, carteiras, online in zip (df_features_cv._label_, df_features_cv.carteiras, df_features_cv.online)]\n",
    "print(df_features_cv._label_.mean())\n",
    "df_features_cv['_label_'] = [1 if (cartuchos>=1)&(online>=1) else label for label, cartuchos, online in zip (df_features_cv._label_, df_features_cv.cartuchos, df_features_cv.online)]\n",
    "print(df_features_cv._label_.mean())\n",
    "df_features_cv['_label_'] = [1 if (celulares>=1)&(online>=1) else label for label, celulares, online in zip (df_features_cv._label_, df_features_cv.celulares, df_features_cv.online)]\n",
    "print(df_features_cv._label_.mean())\n",
    "df_features_cv['_label_'] = [1 if (cervejas>=1)&(online>=1) else label for label, cervejas, online in zip (df_features_cv._label_, df_features_cv.cervejas, df_features_cv.online)]\n",
    "print(df_features_cv._label_.mean())\n",
    "df_features_cv['_label_'] = [1 if (cestas>=1)&(online>=1) else label for label, cestas, online in zip (df_features_cv._label_, df_features_cv.cestas, df_features_cv.online)]\n",
    "print(df_features_cv._label_.mean())\n",
    "df_features_cv['_label_'] = [1 if (chapas>=1)&(online>=1) else label for label, chapas, online in zip (df_features_cv._label_, df_features_cv.chapas, df_features_cv.online)]\n",
    "print(df_features_cv._label_.mean())\n",
    "df_features_cv['_label_'] = [1 if (chaveiros>=1)&(online>=1) else label for label, chaveiros, online in zip (df_features_cv._label_, df_features_cv.chaveiros, df_features_cv.online)]\n",
    "print(df_features_cv._label_.mean())\n",
    "df_features_cv['_label_'] = [1 if (chaves>=1)&(online>=1) else label for label, chaves, online in zip (df_features_cv._label_, df_features_cv.chaves, df_features_cv.online)]\n",
    "print(df_features_cv._label_.mean())\n",
    "df_features_cv['_label_'] = [1 if (chocolates>=1)&(online>=1) else label for label, chocolates, online in zip (df_features_cv._label_, df_features_cv.chocolates, df_features_cv.online)]\n",
    "print(df_features_cv._label_.mean())\n",
    "df_features_cv['_label_'] = [1 if (cilindros>=1)&(online>=1) else label for label, cilindros, online in zip (df_features_cv._label_, df_features_cv.cilindros, df_features_cv.online)]\n",
    "print(df_features_cv._label_.mean())\n",
    "df_features_cv['_label_'] = [1 if (circuitos>=1)&(online>=1) else label for label, circuitos, online in zip (df_features_cv._label_, df_features_cv.circuitos, df_features_cv.online)]\n",
    "print(df_features_cv._label_.mean())\n",
    "#df_features_cv['_label_'] = [1 if (colares>=1)&(online>=1) else label for label, colares, online in zip (df_features_cv._label_, df_features_cv.colares, df_features_cv.online)]\n",
    "#print(df_features_cv._label_.mean())\n",
    "df_features_cv['_label_'] = [1 if (colchoes>=1)&(online>=1) else label for label, colchoes, online in zip (df_features_cv._label_, df_features_cv.colchoes, df_features_cv.online)]\n",
    "print(df_features_cv._label_.mean())\n",
    "#df_features_cv['_label_'] = [1 if (comidas>=1)&(online>=1) else label for label, comidas, online in zip (df_features_cv._label_, df_features_cv.comidas, df_features_cv.online)]\n",
    "#print(df_features_cv._label_.mean())\n",
    "df_features_cv['_label_'] = [1 if (copos>=1)&(online>=1) else label for label, copos, online in zip (df_features_cv._label_, df_features_cv.copos, df_features_cv.online)]\n",
    "print(df_features_cv._label_.mean())\n",
    "df_features_cv['_label_'] = [1 if (cortinas>=1)&(online>=1) else label for label, cortinas, online in zip (df_features_cv._label_, df_features_cv.cortinas, df_features_cv.online)]\n",
    "print(df_features_cv._label_.mean())\n",
    "df_features_cv['_label_'] = [1 if (cosmeticos>=1)&(online>=1) else label for label, cosmeticos, online in zip (df_features_cv._label_, df_features_cv.cosmeticos, df_features_cv.online)]\n",
    "print(df_features_cv._label_.mean())\n",
    "df_features_cv['_label_'] = [1 if (cristais>=1)&(online>=1) else label for label, cristais, online in zip (df_features_cv._label_, df_features_cv.cristais, df_features_cv.online)]\n",
    "print(df_features_cv._label_.mean())\n",
    "df_features_cv['_label_'] = [1 if (decorativos>=1)&(online>=1) else label for label, decorativos, online in zip (df_features_cv._label_, df_features_cv.decorativos, df_features_cv.online)]\n",
    "print(df_features_cv._label_.mean())\n",
    "df_features_cv['_label_'] = [1 if (descartaveis>=1)&(online>=1) else label for label, descartaveis, online in zip (df_features_cv._label_, df_features_cv.descartaveis, df_features_cv.online)]\n",
    "print(df_features_cv._label_.mean())\n",
    "df_features_cv['_label_'] = [1 if (eletrodomesticos>=1)&(online>=1) else label for label, eletrodomesticos, online in zip (df_features_cv._label_, df_features_cv.eletrodomesticos, df_features_cv.online)]\n",
    "print(df_features_cv._label_.mean())\n",
    "df_features_cv['_label_'] = [1 if (eletronicos>=1)&(online>=1) else label for label, eletronicos, online in zip (df_features_cv._label_, df_features_cv.eletronicos, df_features_cv.online)]\n",
    "print(df_features_cv._label_.mean())\n",
    "#df_features_cv['_label_'] = [1 if (embutidos>=1)&(online>=1) else label for label, embutidos, online in zip (df_features_cv._label_, df_features_cv.embutidos, df_features_cv.online)]\n",
    "print(df_features_cv._label_.mean())\n",
    "#df_features_cv['_label_'] = [1 if (empilhadeiras>=1)&(online>=1) else label for label, empilhadeiras, online in zip (df_features_cv._label_, df_features_cv.empilhadeiras, df_features_cv.online)]\n",
    "print(df_features_cv._label_.mean())\n",
    "df_features_cv['_label_'] = [1 if (ervas>=1)&(online>=1) else label for label, ervas, online in zip (df_features_cv._label_, df_features_cv.ervas, df_features_cv.online)]\n",
    "print(df_features_cv._label_.mean())\n",
    "df_features_cv['_label_'] = [1 if (espelhos>=1)&(online>=1) else label for label, espelhos, online in zip (df_features_cv._label_, df_features_cv.espelhos, df_features_cv.online)]\n",
    "print(df_features_cv._label_.mean())\n",
    "df_features_cv['_label_'] = [1 if (facas>=1)&(online>=1) else label for label, facas, online in zip (df_features_cv._label_, df_features_cv.facas, df_features_cv.online)]\n",
    "print(df_features_cv._label_.mean())\n",
    "df_features_cv['_label_'] = [1 if (fantasias>=1)&(online>=1) else label for label, fantasias, online in zip (df_features_cv._label_, df_features_cv.fantasias, df_features_cv.online)]\n",
    "print(df_features_cv._label_.mean())\n",
    "df_features_cv['_label_'] = [1 if (farmacia>=1)&(online>=1) else label for label, farmacia, online in zip (df_features_cv._label_, df_features_cv.farmacia, df_features_cv.online)]\n",
    "print(df_features_cv._label_.mean())\n",
    "#df_features_cv['_label_'] = [1 if (fechaduras>=1)&(online>=1) else label for label, fechaduras, online in zip (df_features_cv._label_, df_features_cv.fechaduras, df_features_cv.online)]\n",
    "print(df_features_cv._label_.mean())\n",
    "df_features_cv['_label_'] = [1 if (ferragens>=1)&(online>=1) else label for label, ferragens, online in zip (df_features_cv._label_, df_features_cv.ferragens, df_features_cv.online)]\n",
    "print(df_features_cv._label_.mean())\n",
    "df_features_cv['_label_'] = [1 if (ferramentas>=1)&(online>=1) else label for label, ferramentas, online in zip (df_features_cv._label_, df_features_cv.ferramentas, df_features_cv.online)]\n",
    "print(df_features_cv._label_.mean())\n",
    "df_features_cv['_label_'] = [1 if (fibras>=1)&(online>=1) else label for label, fibras, online in zip (df_features_cv._label_, df_features_cv.fibras, df_features_cv.online)]\n",
    "print(df_features_cv._label_.mean())\n",
    "df_features_cv['_label_'] = [1 if (florais>=1)&(online>=1) else label for label, florais, online in zip (df_features_cv._label_, df_features_cv.florais, df_features_cv.online)]\n",
    "print(df_features_cv._label_.mean())\n",
    "df_features_cv['_label_'] = [1 if (flores>=1)&(online>=1) else label for label, flores, online in zip (df_features_cv._label_, df_features_cv.flores, df_features_cv.online)]\n",
    "print(df_features_cv._label_.mean())\n",
    "df_features_cv['_label_'] = [1 if (laminados>=1)&(online>=1) else label for label, laminados, online in zip (df_features_cv._label_, df_features_cv.laminados, df_features_cv.online)]\n",
    "print(df_features_cv._label_.mean())\n",
    "df_features_cv['_label_'] = [1 if (laminas>=1)&(online>=1) else label for label, laminas, online in zip (df_features_cv._label_, df_features_cv.laminas, df_features_cv.online)]\n",
    "print(df_features_cv._label_.mean())\n",
    "df_features_cv['_label_'] = [1 if (lampadas>=1)&(online>=1) else label for label, lampadas, online in zip (df_features_cv._label_, df_features_cv.lampadas, df_features_cv.online)]\n",
    "print(df_features_cv._label_.mean())\n",
    "df_features_cv['_label_'] = [1 if (lubrificantes>=1)&(online>=1) else label for label, lubrificantes, online in zip (df_features_cv._label_, df_features_cv.lubrificantes, df_features_cv.online)]\n",
    "print(df_features_cv._label_.mean())\n",
    "df_features_cv['_label_'] = [1 if (luvas>=1)&(online>=1) else label for label, luvas, online in zip (df_features_cv._label_, df_features_cv.luvas, df_features_cv.online)]\n",
    "print(df_features_cv._label_.mean())\n",
    "df_features_cv['_label_'] = [1 if (madeiras>=1)&(online>=1) else label for label, madeiras, online in zip (df_features_cv._label_, df_features_cv.madeiras, df_features_cv.online)]\n",
    "print(df_features_cv._label_.mean())\n",
    "df_features_cv['_label_'] = [1 if (mascaras>=1)&(online>=1) else label for label, mascaras, online in zip (df_features_cv._label_, df_features_cv.mascaras, df_features_cv.online)]\n",
    "print(df_features_cv._label_.mean())\n",
    "df_features_cv['_label_'] = [1 if (medicamentos>=1)&(online>=1) else label for label, medicamentos, online in zip (df_features_cv._label_, df_features_cv.medicamentos, df_features_cv.online)]\n",
    "print(df_features_cv._label_.mean())\n",
    "df_features_cv['_label_'] = [1 if (notebooks>=1)&(online>=1) else label for label, notebooks, online in zip (df_features_cv._label_, df_features_cv.notebooks, df_features_cv.online)]\n",
    "print(df_features_cv._label_.mean())\n",
    "df_features_cv['_label_'] = [1 if (pedras>=1)&(online>=1) else label for label, pedras, online in zip (df_features_cv._label_, df_features_cv.pedras, df_features_cv.online)]\n",
    "print(df_features_cv._label_.mean())\n",
    "df_features_cv['_label_'] = [1 if (perfumes>=1)&(online>=1) else label for label, perfumes, online in zip (df_features_cv._label_, df_features_cv.perfumes, df_features_cv.online)]\n",
    "print(df_features_cv._label_.mean())\n",
    "df_features_cv['_label_'] = [1 if (persianas>=1)&(online>=1) else label for label, persianas, online in zip (df_features_cv._label_, df_features_cv.persianas, df_features_cv.online)]\n",
    "print(df_features_cv._label_.mean())\n",
    "df_features_cv['_label_'] = [1 if (plantas>=1)&(online>=1) else label for label, plantas, online in zip (df_features_cv._label_, df_features_cv.plantas, df_features_cv.online)]\n",
    "print(df_features_cv._label_.mean())\n",
    "df_features_cv['_label_'] = [1 if (pneus>=1)&(online>=1) else label for label, pneus, online in zip (df_features_cv._label_, df_features_cv.pneus, df_features_cv.online)]\n",
    "print(df_features_cv._label_.mean())\n",
    "df_features_cv['_label_'] = [1 if (portas>=1)&(online>=1) else label for label, portas, online in zip (df_features_cv._label_, df_features_cv.portas, df_features_cv.online)]\n",
    "print(df_features_cv._label_.mean())\n",
    "df_features_cv['_label_'] = [1 if (pratos>=1)&(online>=1) else label for label, pratos, online in zip (df_features_cv._label_, df_features_cv.pratos, df_features_cv.online)]\n",
    "print(df_features_cv._label_.mean())\n",
    "df_features_cv['_label_'] = [1 if (proteses>=1)&(online>=1) else label for label, proteses, online in zip (df_features_cv._label_, df_features_cv.proteses, df_features_cv.online)]\n",
    "print(df_features_cv._label_.mean())\n",
    "df_features_cv['_label_'] = [1 if (protetores>=1)&(online>=1) else label for label, protetores, online in zip (df_features_cv._label_, df_features_cv.protetores, df_features_cv.online)]\n",
    "print(df_features_cv._label_.mean())\n",
    "df_features_cv['_label_'] = [1 if (pulseiras>=1)&(online>=1) else label for label, pulseiras, online in zip (df_features_cv._label_, df_features_cv.pulseiras, df_features_cv.online)]\n",
    "print(df_features_cv._label_.mean())\n",
    "df_features_cv['_label_'] = [1 if (quadros>=1)&(online>=1) else label for label, quadros, online in zip (df_features_cv._label_, df_features_cv.quadros, df_features_cv.online)]\n",
    "print(df_features_cv._label_.mean())\n",
    "df_features_cv['_label_'] = [1 if (queijos>=1)&(online>=1) else label for label, queijos, online in zip (df_features_cv._label_, df_features_cv.queijos, df_features_cv.online)]\n",
    "print(df_features_cv._label_.mean())\n",
    "df_features_cv['_label_'] = [1 if (roupas>=1)&(online>=1) else label for label, roupas, online in zip (df_features_cv._label_, df_features_cv.roupas, df_features_cv.online)]\n",
    "print(df_features_cv._label_.mean())\n",
    "df_features_cv['_label_'] = [1 if (smartphones>=1)&(online>=1) else label for label, smartphones, online in zip (df_features_cv._label_, df_features_cv.smartphones, df_features_cv.online)]\n",
    "print(df_features_cv._label_.mean())\n",
    "df_features_cv['_label_'] = [1 if (suplementos>=1)&(online>=1) else label for label, suplementos, online in zip (df_features_cv._label_, df_features_cv.suplementos, df_features_cv.online)]\n",
    "print(df_features_cv._label_.mean())\n",
    "df_features_cv['_label_'] = [1 if (tapetes>=1)&(online>=1) else label for label, tapetes, online in zip (df_features_cv._label_, df_features_cv.tapetes, df_features_cv.online)]\n",
    "print(df_features_cv._label_.mean())\n",
    "df_features_cv['_label_'] = [1 if (telhas>=1)&(online>=1) else label for label, telhas, online in zip (df_features_cv._label_, df_features_cv.telhas, df_features_cv.online)]\n",
    "print(df_features_cv._label_.mean())\n",
    "df_features_cv['_label_'] = [1 if (tenis>=1)&(online>=1) else label for label, tenis, online in zip (df_features_cv._label_, df_features_cv.tenis, df_features_cv.online)]\n",
    "print(df_features_cv._label_.mean())\n",
    "df_features_cv['_label_'] = [1 if (tintas>=1)&(online>=1) else label for label, tintas, online in zip (df_features_cv._label_, df_features_cv.tintas, df_features_cv.online)]\n",
    "print(df_features_cv._label_.mean())\n",
    "df_features_cv['_label_'] = [1 if (toalhas>=1)&(online>=1) else label for label, toalhas, online in zip (df_features_cv._label_, df_features_cv.toalhas, df_features_cv.online)]\n",
    "print(df_features_cv._label_.mean())\n",
    "df_features_cv['_label_'] = [1 if (vasos>=1)&(online>=1) else label for label, vasos, online in zip (df_features_cv._label_, df_features_cv.vasos, df_features_cv.online)]\n",
    "print(df_features_cv._label_.mean())\n",
    "df_features_cv['_label_'] = [1 if (veiculos>=1)&(online>=1) else label for label, veiculos, online in zip (df_features_cv._label_, df_features_cv.veiculos, df_features_cv.online)]\n",
    "print(df_features_cv._label_.mean())\n",
    "df_features_cv['_label_'] = [1 if (velas>=1)&(online>=1) else label for label, velas, online in zip (df_features_cv._label_, df_features_cv.velas, df_features_cv.online)]\n",
    "print(df_features_cv._label_.mean())\n",
    "df_features_cv['_label_'] = [1 if (vidros>=1)&(online>=1) else label for label, vidros, online in zip (df_features_cv._label_, df_features_cv.vidros, df_features_cv.online)]\n",
    "print(df_features_cv._label_.mean())\n",
    "df_features_cv['_label_'] = [1 if (vinhos>=1)&(online>=1) else label for label, vinhos, online in zip (df_features_cv._label_, df_features_cv.vinhos, df_features_cv.online)]\n",
    "print(df_features_cv._label_.mean())\n",
    "df_features_cv['_label_'] = [1 if (vitaminas>=1)&(online>=1) else label for label, vitaminas, online in zip (df_features_cv._label_, df_features_cv.vitaminas, df_features_cv.online)]\n"
   ]
  },
  {
   "cell_type": "code",
   "execution_count": 43,
   "metadata": {
    "collapsed": false
   },
   "outputs": [],
   "source": [
    "df_features_cv.reset_index(inplace= True)"
   ]
  },
  {
   "cell_type": "code",
   "execution_count": 44,
   "metadata": {
    "collapsed": false
   },
   "outputs": [],
   "source": [
    "#df_features_cv[df_features_cv.americanas!=0][['url','netshoes']]"
   ]
  },
  {
   "cell_type": "code",
   "execution_count": 60,
   "metadata": {
    "collapsed": false
   },
   "outputs": [
    {
     "data": {
      "text/plain": [
       "0.15932144106330884"
      ]
     },
     "execution_count": 60,
     "metadata": {},
     "output_type": "execute_result"
    }
   ],
   "source": [
    "df_features_cv._label_.mean()"
   ]
  },
  {
   "cell_type": "markdown",
   "metadata": {},
   "source": [
    "### Keras - redes neurais"
   ]
  },
  {
   "cell_type": "code",
   "execution_count": 61,
   "metadata": {
    "collapsed": false
   },
   "outputs": [],
   "source": [
    "import keras\n",
    "from keras.datasets import mnist\n",
    "from keras.models import Sequential\n",
    "from keras.layers import Dense, Dropout #, Conv2D, LSTM\n",
    "from keras.optimizers import RMSprop"
   ]
  },
  {
   "cell_type": "code",
   "execution_count": 62,
   "metadata": {
    "collapsed": true
   },
   "outputs": [],
   "source": [
    "# tamanho do batch: numero de amostras em cada vez (stochastic gradient descend) \n",
    "# qtd de epochs: numero de varreduras completas no dataset\n",
    "batch_size = 512\n",
    "epochs = 5\n",
    "\n",
    "X_cv = df_features_cv.drop(['_label_', 'url'], axis = 1).values\n",
    "y = df_features_cv._label_.values\n",
    "\n",
    "#Train and test data\n",
    "train_size = 0.8\n",
    "x_train_cv, x_test_cv = X_cv[:int(len(X_cv)*train_size)+1],X_cv[int(len(X_cv)*train_size)+1: len(X_cv)]\n",
    "y_train, y_test = y[:int(len(y)*train_size)+1],y[int(len(y)*train_size)+1: len(y)]\n",
    "\n",
    "# saida:\n",
    "num_classes = 2\n",
    "y_nn_train = keras.utils.to_categorical(y_train, num_classes)\n",
    "y_nn_test = keras.utils.to_categorical(y_test, num_classes)\n"
   ]
  },
  {
   "cell_type": "code",
   "execution_count": 63,
   "metadata": {
    "collapsed": true
   },
   "outputs": [],
   "source": [
    "#Topologia rede\n",
    "def _get_model_():\n",
    "    num_features = len(x_train_cv[0])\n",
    "\n",
    "    model = Sequential()\n",
    "    model.add(Dense(int(num_features/4),       # Dense: tot. conectado (FC) a camada anterior\n",
    "              activation='relu', \n",
    "              input_shape=(num_features,),    # na 1a. vez incluir input_shape, input_dim\n",
    "              name = 'layer_1'))   \n",
    "\n",
    "    model.add(Dropout(0.01))\n",
    "    model.add(Dense(int(num_features/8), activation='sigmoid', name = 'layer_2'))\n",
    "    model.add(Dropout(0.01))\n",
    "    model.add(Dense(int(num_features/64), activation='sigmoid', name = 'layer_3'))\n",
    "    model.add(Dropout(0.01))\n",
    "    model.add(Dense(2, activation='softmax', name = 'output_layer'), )\n",
    "\n",
    "    #Resumo modelo\n",
    "    #model.summary()\n",
    "    \n",
    "    return model\n",
    "\n",
    "model = _get_model_()"
   ]
  },
  {
   "cell_type": "code",
   "execution_count": 64,
   "metadata": {
    "collapsed": true
   },
   "outputs": [],
   "source": [
    "# Compile model\n",
    "model.compile(loss = 'categorical_crossentropy',\n",
    "              optimizer = 'adam',\n",
    "              metrics = ['accuracy'])"
   ]
  },
  {
   "cell_type": "markdown",
   "metadata": {},
   "source": [
    "Treinamento"
   ]
  },
  {
   "cell_type": "code",
   "execution_count": 65,
   "metadata": {
    "collapsed": false
   },
   "outputs": [
    {
     "name": "stdout",
     "output_type": "stream",
     "text": [
      "Train on 13724 samples, validate on 3430 samples\n",
      "Epoch 1/5\n",
      "13724/13724 [==============================] - 40s - loss: 0.4652 - acc: 0.8240 - val_loss: 0.3259 - val_acc: 0.8723\n",
      "Epoch 2/5\n",
      "13724/13724 [==============================] - 41s - loss: 0.2687 - acc: 0.8958 - val_loss: 0.2927 - val_acc: 0.8945\n",
      "Epoch 3/5\n",
      "13724/13724 [==============================] - 39s - loss: 0.1490 - acc: 0.9504 - val_loss: 0.3341 - val_acc: 0.8933\n",
      "Epoch 4/5\n",
      "13724/13724 [==============================] - 39s - loss: 0.0702 - acc: 0.9808 - val_loss: 0.4046 - val_acc: 0.8930\n",
      "Epoch 5/5\n",
      "13724/13724 [==============================] - 39s - loss: 0.0442 - acc: 0.9894 - val_loss: 0.4463 - val_acc: 0.8948\n"
     ]
    }
   ],
   "source": [
    "# Etapa .fit()\n",
    "# valores X e y são submetidos a rede para treinamento\n",
    "\n",
    "history = model.fit(x_train_cv, y_nn_train,\n",
    "                    batch_size = batch_size,\n",
    "                    epochs = epochs,   # baixo aprende pouco, alto pode causar overfitting\n",
    "                    verbose = 1,\n",
    "                    validation_data = (x_test_cv, y_nn_test))"
   ]
  },
  {
   "cell_type": "code",
   "execution_count": 66,
   "metadata": {
    "collapsed": false
   },
   "outputs": [
    {
     "name": "stdout",
     "output_type": "stream",
     "text": [
      "Test loss: 0.446280553239\n",
      "Test accuracy: 0.894752186589\n"
     ]
    }
   ],
   "source": [
    "score = model.evaluate(x_test_cv, y_nn_test, verbose=0)\n",
    "print('Test loss:', score[0])\n",
    "print('Test accuracy:', score[1])"
   ]
  },
  {
   "cell_type": "code",
   "execution_count": 67,
   "metadata": {
    "collapsed": false
   },
   "outputs": [
    {
     "data": {
      "text/plain": [
       "(17154, 7752)"
      ]
     },
     "execution_count": 67,
     "metadata": {},
     "output_type": "execute_result"
    }
   ],
   "source": [
    "df_features_cv.shape"
   ]
  },
  {
   "cell_type": "code",
   "execution_count": 68,
   "metadata": {
    "collapsed": false
   },
   "outputs": [],
   "source": [
    "#df_features_cv.reset_index(inplace=True)"
   ]
  },
  {
   "cell_type": "code",
   "execution_count": 69,
   "metadata": {
    "collapsed": true
   },
   "outputs": [],
   "source": [
    "#df_features_cv.drop('level_0', axis = 1, inplace=True)"
   ]
  },
  {
   "cell_type": "code",
   "execution_count": 70,
   "metadata": {
    "collapsed": false
   },
   "outputs": [
    {
     "data": {
      "text/html": [
       "<div>\n",
       "<table border=\"1\" class=\"dataframe\">\n",
       "  <thead>\n",
       "    <tr style=\"text-align: right;\">\n",
       "      <th></th>\n",
       "      <th>url</th>\n",
       "      <th>_label_</th>\n",
       "      <th>aa</th>\n",
       "      <th>aba</th>\n",
       "      <th>abaixo</th>\n",
       "      <th>abastecimento</th>\n",
       "      <th>abc</th>\n",
       "      <th>aberta</th>\n",
       "      <th>abertas</th>\n",
       "      <th>aberto</th>\n",
       "      <th>...</th>\n",
       "      <th>years</th>\n",
       "      <th>yes</th>\n",
       "      <th>yet</th>\n",
       "      <th>yoga</th>\n",
       "      <th>york</th>\n",
       "      <th>youtube</th>\n",
       "      <th>ze</th>\n",
       "      <th>zero</th>\n",
       "      <th>zona</th>\n",
       "      <th>zoom</th>\n",
       "    </tr>\n",
       "  </thead>\n",
       "  <tbody>\n",
       "    <tr>\n",
       "      <th>0</th>\n",
       "      <td>funprint.com.br</td>\n",
       "      <td>1</td>\n",
       "      <td>0</td>\n",
       "      <td>0</td>\n",
       "      <td>0</td>\n",
       "      <td>0</td>\n",
       "      <td>0</td>\n",
       "      <td>0</td>\n",
       "      <td>0</td>\n",
       "      <td>0</td>\n",
       "      <td>...</td>\n",
       "      <td>0</td>\n",
       "      <td>0</td>\n",
       "      <td>0</td>\n",
       "      <td>0</td>\n",
       "      <td>0</td>\n",
       "      <td>0</td>\n",
       "      <td>0</td>\n",
       "      <td>0</td>\n",
       "      <td>0</td>\n",
       "      <td>0</td>\n",
       "    </tr>\n",
       "    <tr>\n",
       "      <th>1</th>\n",
       "      <td>mauaplaza.com.br</td>\n",
       "      <td>0</td>\n",
       "      <td>0</td>\n",
       "      <td>0</td>\n",
       "      <td>0</td>\n",
       "      <td>0</td>\n",
       "      <td>2</td>\n",
       "      <td>0</td>\n",
       "      <td>0</td>\n",
       "      <td>0</td>\n",
       "      <td>...</td>\n",
       "      <td>0</td>\n",
       "      <td>0</td>\n",
       "      <td>0</td>\n",
       "      <td>0</td>\n",
       "      <td>0</td>\n",
       "      <td>0</td>\n",
       "      <td>0</td>\n",
       "      <td>0</td>\n",
       "      <td>0</td>\n",
       "      <td>0</td>\n",
       "    </tr>\n",
       "    <tr>\n",
       "      <th>2</th>\n",
       "      <td>labscs.com.br</td>\n",
       "      <td>0</td>\n",
       "      <td>0</td>\n",
       "      <td>0</td>\n",
       "      <td>0</td>\n",
       "      <td>0</td>\n",
       "      <td>0</td>\n",
       "      <td>0</td>\n",
       "      <td>0</td>\n",
       "      <td>0</td>\n",
       "      <td>...</td>\n",
       "      <td>0</td>\n",
       "      <td>0</td>\n",
       "      <td>0</td>\n",
       "      <td>0</td>\n",
       "      <td>0</td>\n",
       "      <td>0</td>\n",
       "      <td>0</td>\n",
       "      <td>0</td>\n",
       "      <td>0</td>\n",
       "      <td>0</td>\n",
       "    </tr>\n",
       "    <tr>\n",
       "      <th>3</th>\n",
       "      <td>caisep.com</td>\n",
       "      <td>0</td>\n",
       "      <td>0</td>\n",
       "      <td>0</td>\n",
       "      <td>0</td>\n",
       "      <td>0</td>\n",
       "      <td>0</td>\n",
       "      <td>0</td>\n",
       "      <td>0</td>\n",
       "      <td>0</td>\n",
       "      <td>...</td>\n",
       "      <td>0</td>\n",
       "      <td>0</td>\n",
       "      <td>0</td>\n",
       "      <td>0</td>\n",
       "      <td>0</td>\n",
       "      <td>0</td>\n",
       "      <td>0</td>\n",
       "      <td>0</td>\n",
       "      <td>0</td>\n",
       "      <td>0</td>\n",
       "    </tr>\n",
       "    <tr>\n",
       "      <th>4</th>\n",
       "      <td>cursoscooperativistas.com.br</td>\n",
       "      <td>0</td>\n",
       "      <td>0</td>\n",
       "      <td>0</td>\n",
       "      <td>0</td>\n",
       "      <td>0</td>\n",
       "      <td>0</td>\n",
       "      <td>0</td>\n",
       "      <td>0</td>\n",
       "      <td>0</td>\n",
       "      <td>...</td>\n",
       "      <td>0</td>\n",
       "      <td>0</td>\n",
       "      <td>0</td>\n",
       "      <td>0</td>\n",
       "      <td>0</td>\n",
       "      <td>0</td>\n",
       "      <td>0</td>\n",
       "      <td>0</td>\n",
       "      <td>0</td>\n",
       "      <td>0</td>\n",
       "    </tr>\n",
       "  </tbody>\n",
       "</table>\n",
       "<p>5 rows × 7752 columns</p>\n",
       "</div>"
      ],
      "text/plain": [
       "                            url  _label_  aa  aba  abaixo  abastecimento  abc  \\\n",
       "0               funprint.com.br        1   0    0       0              0    0   \n",
       "1              mauaplaza.com.br        0   0    0       0              0    2   \n",
       "2                 labscs.com.br        0   0    0       0              0    0   \n",
       "3                    caisep.com        0   0    0       0              0    0   \n",
       "4  cursoscooperativistas.com.br        0   0    0       0              0    0   \n",
       "\n",
       "   aberta  abertas  aberto  ...   years  yes  yet  yoga  york  youtube  ze  \\\n",
       "0       0        0       0  ...       0    0    0     0     0        0   0   \n",
       "1       0        0       0  ...       0    0    0     0     0        0   0   \n",
       "2       0        0       0  ...       0    0    0     0     0        0   0   \n",
       "3       0        0       0  ...       0    0    0     0     0        0   0   \n",
       "4       0        0       0  ...       0    0    0     0     0        0   0   \n",
       "\n",
       "   zero  zona  zoom  \n",
       "0     0     0     0  \n",
       "1     0     0     0  \n",
       "2     0     0     0  \n",
       "3     0     0     0  \n",
       "4     0     0     0  \n",
       "\n",
       "[5 rows x 7752 columns]"
      ]
     },
     "execution_count": 70,
     "metadata": {},
     "output_type": "execute_result"
    }
   ],
   "source": [
    "df_features_cv.head() "
   ]
  },
  {
   "cell_type": "code",
   "execution_count": 71,
   "metadata": {
    "collapsed": true
   },
   "outputs": [],
   "source": [
    "X_cv = df_features_cv.drop(['_label_','url'], axis = 1).values\n",
    "x_base = X_cv[:int(len(X_cv))+1]"
   ]
  },
  {
   "cell_type": "code",
   "execution_count": 72,
   "metadata": {
    "collapsed": false
   },
   "outputs": [],
   "source": [
    "y_pred = model.predict(x_base)\n",
    "y_pred = pd.DataFrame(data=y_pred)\n",
    "#y_pred.rename(columns= {0: 'Result_Keras'}, inplace= True)"
   ]
  },
  {
   "cell_type": "code",
   "execution_count": 73,
   "metadata": {
    "collapsed": false
   },
   "outputs": [],
   "source": [
    "y_pred.rename(columns= {1: 'ProbEcomm'}, inplace= True)\n",
    "y_pred.drop(0, axis= 1, inplace= True)"
   ]
  },
  {
   "cell_type": "code",
   "execution_count": 74,
   "metadata": {
    "collapsed": false
   },
   "outputs": [
    {
     "data": {
      "text/html": [
       "<div>\n",
       "<table border=\"1\" class=\"dataframe\">\n",
       "  <thead>\n",
       "    <tr style=\"text-align: right;\">\n",
       "      <th></th>\n",
       "      <th>ProbEcomm</th>\n",
       "    </tr>\n",
       "  </thead>\n",
       "  <tbody>\n",
       "    <tr>\n",
       "      <th>11903</th>\n",
       "      <td>0.002523</td>\n",
       "    </tr>\n",
       "  </tbody>\n",
       "</table>\n",
       "</div>"
      ],
      "text/plain": [
       "       ProbEcomm\n",
       "11903   0.002523"
      ]
     },
     "execution_count": 74,
     "metadata": {},
     "output_type": "execute_result"
    }
   ],
   "source": [
    "y_pred.sample()"
   ]
  },
  {
   "cell_type": "code",
   "execution_count": 77,
   "metadata": {
    "collapsed": false
   },
   "outputs": [],
   "source": [
    "Result = pd.concat([df_features_cv.reset_index(), y_pred], axis = 1)"
   ]
  },
  {
   "cell_type": "code",
   "execution_count": 78,
   "metadata": {
    "collapsed": false
   },
   "outputs": [
    {
     "data": {
      "text/plain": [
       "(17154, 7754)"
      ]
     },
     "execution_count": 78,
     "metadata": {},
     "output_type": "execute_result"
    }
   ],
   "source": [
    "Result.shape"
   ]
  },
  {
   "cell_type": "code",
   "execution_count": 79,
   "metadata": {
    "collapsed": false
   },
   "outputs": [
    {
     "data": {
      "text/plain": [
       "count    17154.000000\n",
       "mean         0.150853\n",
       "std          0.340827\n",
       "min          0.000210\n",
       "25%          0.001558\n",
       "50%          0.003929\n",
       "75%          0.015368\n",
       "max          0.997656\n",
       "Name: ProbEcomm, dtype: float64"
      ]
     },
     "execution_count": 79,
     "metadata": {},
     "output_type": "execute_result"
    }
   ],
   "source": [
    "Result.ProbEcomm.describe()"
   ]
  },
  {
   "cell_type": "code",
   "execution_count": 80,
   "metadata": {
    "collapsed": false
   },
   "outputs": [
    {
     "data": {
      "text/html": [
       "<div>\n",
       "<table border=\"1\" class=\"dataframe\">\n",
       "  <thead>\n",
       "    <tr style=\"text-align: right;\">\n",
       "      <th></th>\n",
       "      <th>_label_</th>\n",
       "      <th>ProbEcomm</th>\n",
       "    </tr>\n",
       "  </thead>\n",
       "  <tbody>\n",
       "    <tr>\n",
       "      <th>0</th>\n",
       "      <td>1</td>\n",
       "      <td>0.885301</td>\n",
       "    </tr>\n",
       "    <tr>\n",
       "      <th>1</th>\n",
       "      <td>0</td>\n",
       "      <td>0.000737</td>\n",
       "    </tr>\n",
       "    <tr>\n",
       "      <th>2</th>\n",
       "      <td>0</td>\n",
       "      <td>0.005276</td>\n",
       "    </tr>\n",
       "    <tr>\n",
       "      <th>3</th>\n",
       "      <td>0</td>\n",
       "      <td>0.002267</td>\n",
       "    </tr>\n",
       "    <tr>\n",
       "      <th>4</th>\n",
       "      <td>0</td>\n",
       "      <td>0.001944</td>\n",
       "    </tr>\n",
       "  </tbody>\n",
       "</table>\n",
       "</div>"
      ],
      "text/plain": [
       "   _label_  ProbEcomm\n",
       "0        1   0.885301\n",
       "1        0   0.000737\n",
       "2        0   0.005276\n",
       "3        0   0.002267\n",
       "4        0   0.001944"
      ]
     },
     "execution_count": 80,
     "metadata": {},
     "output_type": "execute_result"
    }
   ],
   "source": [
    "Result[['_label_', 'ProbEcomm']].head()"
   ]
  },
  {
   "cell_type": "code",
   "execution_count": 88,
   "metadata": {
    "collapsed": false
   },
   "outputs": [
    {
     "data": {
      "text/plain": [
       "[0.028416633605957031,\n",
       " 0.318212693929672,\n",
       " 0.79992550015449493,\n",
       " 0.94253732085227993,\n",
       " 0.96833503246307373,\n",
       " 0.97740084946155559,\n",
       " 0.98409538269042973,\n",
       " 0.99753229737281801]"
      ]
     },
     "execution_count": 88,
     "metadata": {},
     "output_type": "execute_result"
    }
   ],
   "source": [
    "def cria_curva(percentiles, variavel):\n",
    "    Perc = list()\n",
    "    for i in range(len(percentiles)):\n",
    "        Perc.append(np.percentile(variavel, percentiles[i]))\n",
    "    return Perc\n",
    "\n",
    "perc = cria_curva([80,85,86,87,88,89,90,99],Result.ProbEcomm)\n",
    "perc"
   ]
  },
  {
   "cell_type": "code",
   "execution_count": 89,
   "metadata": {
    "collapsed": false
   },
   "outputs": [],
   "source": [
    "def marca_base(Perc, x):\n",
    "    if x >= Perc[(len(Perc)-1)]:\n",
    "        return len(Perc) +1\n",
    "    else:\n",
    "        for i in range(len(Perc)):\n",
    "            if x < Perc[i]:\n",
    "                return i + 1\n",
    "\n",
    "Result['ProbEcomm_']= [marca_base(perc,s) for s in Result.ProbEcomm]"
   ]
  },
  {
   "cell_type": "code",
   "execution_count": 90,
   "metadata": {
    "collapsed": false
   },
   "outputs": [
    {
     "data": {
      "text/plain": [
       "8    1510\n",
       "1     210\n",
       "9     171\n",
       "7     167\n",
       "6     165\n",
       "5     156\n",
       "4     142\n",
       "2     121\n",
       "3      91\n",
       "Name: ProbEcomm_, dtype: int64"
      ]
     },
     "execution_count": 90,
     "metadata": {},
     "output_type": "execute_result"
    }
   ],
   "source": [
    "Result[Result._label_ == 1].ProbEcomm_.value_counts()"
   ]
  },
  {
   "cell_type": "code",
   "execution_count": 91,
   "metadata": {
    "collapsed": false
   },
   "outputs": [
    {
     "data": {
      "text/plain": [
       "1    13502\n",
       "2      748\n",
       "3       80\n",
       "8       34\n",
       "4       30\n",
       "5       15\n",
       "6        7\n",
       "7        4\n",
       "9        1\n",
       "Name: ProbEcomm_, dtype: int64"
      ]
     },
     "execution_count": 91,
     "metadata": {},
     "output_type": "execute_result"
    }
   ],
   "source": [
    "Result[Result._label_ == 0].ProbEcomm_.value_counts()"
   ]
  },
  {
   "cell_type": "code",
   "execution_count": 98,
   "metadata": {
    "collapsed": false,
    "scrolled": true
   },
   "outputs": [
    {
     "data": {
      "text/html": [
       "<div>\n",
       "<table border=\"1\" class=\"dataframe\">\n",
       "  <thead>\n",
       "    <tr style=\"text-align: right;\">\n",
       "      <th>ProbEcomm_</th>\n",
       "      <th>1</th>\n",
       "      <th>2</th>\n",
       "      <th>3</th>\n",
       "      <th>4</th>\n",
       "      <th>5</th>\n",
       "      <th>6</th>\n",
       "      <th>7</th>\n",
       "      <th>8</th>\n",
       "      <th>9</th>\n",
       "      <th>TOTAL</th>\n",
       "    </tr>\n",
       "    <tr>\n",
       "      <th>_label_</th>\n",
       "      <th></th>\n",
       "      <th></th>\n",
       "      <th></th>\n",
       "      <th></th>\n",
       "      <th></th>\n",
       "      <th></th>\n",
       "      <th></th>\n",
       "      <th></th>\n",
       "      <th></th>\n",
       "      <th></th>\n",
       "    </tr>\n",
       "  </thead>\n",
       "  <tbody>\n",
       "    <tr>\n",
       "      <th>0</th>\n",
       "      <td>13502</td>\n",
       "      <td>748</td>\n",
       "      <td>80</td>\n",
       "      <td>30</td>\n",
       "      <td>15</td>\n",
       "      <td>7</td>\n",
       "      <td>4</td>\n",
       "      <td>34</td>\n",
       "      <td>1</td>\n",
       "      <td>14421</td>\n",
       "    </tr>\n",
       "    <tr>\n",
       "      <th>1</th>\n",
       "      <td>210</td>\n",
       "      <td>121</td>\n",
       "      <td>91</td>\n",
       "      <td>142</td>\n",
       "      <td>156</td>\n",
       "      <td>165</td>\n",
       "      <td>167</td>\n",
       "      <td>1510</td>\n",
       "      <td>171</td>\n",
       "      <td>2733</td>\n",
       "    </tr>\n",
       "  </tbody>\n",
       "</table>\n",
       "</div>"
      ],
      "text/plain": [
       "ProbEcomm_      1    2   3    4    5    6    7     8    9  TOTAL\n",
       "_label_                                                         \n",
       "0           13502  748  80   30   15    7    4    34    1  14421\n",
       "1             210  121  91  142  156  165  167  1510  171   2733"
      ]
     },
     "execution_count": 98,
     "metadata": {},
     "output_type": "execute_result"
    }
   ],
   "source": [
    "%matplotlib inline\n",
    "import matplotlib.pyplot as plt\n",
    "import seaborn as sns\n",
    "\n",
    "agg_dict_heatmap = {'level_0' : 'count'}\n",
    "heatmap = Result.groupby(['_label_','ProbEcomm_']).agg(agg_dict_heatmap).copy()\n",
    "heatmap.reset_index(inplace= True)\n",
    "heatmap = heatmap.pivot('_label_','ProbEcomm_','level_0').copy()\n",
    "heatmap.fillna(0, inplace= True)\n",
    "#sns.heatmap(heatmap, annot=False, linewidths=.5) \n",
    "heatmap['TOTAL'] = heatmap[heatmap.columns].sum(axis = 1)    \n",
    "heatmap"
   ]
  },
  {
   "cell_type": "code",
   "execution_count": 109,
   "metadata": {
    "collapsed": false,
    "scrolled": true
   },
   "outputs": [
    {
     "data": {
      "text/html": [
       "<div>\n",
       "<table border=\"1\" class=\"dataframe\">\n",
       "  <thead>\n",
       "    <tr style=\"text-align: right;\">\n",
       "      <th></th>\n",
       "      <th>level_0</th>\n",
       "      <th>url</th>\n",
       "      <th>_label_</th>\n",
       "      <th>aa</th>\n",
       "      <th>aba</th>\n",
       "      <th>abaixo</th>\n",
       "      <th>abastecimento</th>\n",
       "      <th>abc</th>\n",
       "      <th>aberta</th>\n",
       "      <th>abertas</th>\n",
       "      <th>...</th>\n",
       "      <th>yet</th>\n",
       "      <th>yoga</th>\n",
       "      <th>york</th>\n",
       "      <th>youtube</th>\n",
       "      <th>ze</th>\n",
       "      <th>zero</th>\n",
       "      <th>zona</th>\n",
       "      <th>zoom</th>\n",
       "      <th>ProbEcomm</th>\n",
       "      <th>ProbEcomm_</th>\n",
       "    </tr>\n",
       "  </thead>\n",
       "  <tbody>\n",
       "    <tr>\n",
       "      <th>8559</th>\n",
       "      <td>8559</td>\n",
       "      <td>emefarmaonline.com.br</td>\n",
       "      <td>0</td>\n",
       "      <td>0</td>\n",
       "      <td>0</td>\n",
       "      <td>1</td>\n",
       "      <td>0</td>\n",
       "      <td>0</td>\n",
       "      <td>0</td>\n",
       "      <td>0</td>\n",
       "      <td>...</td>\n",
       "      <td>0</td>\n",
       "      <td>0</td>\n",
       "      <td>0</td>\n",
       "      <td>0</td>\n",
       "      <td>0</td>\n",
       "      <td>0</td>\n",
       "      <td>0</td>\n",
       "      <td>0</td>\n",
       "      <td>0.96902</td>\n",
       "      <td>6</td>\n",
       "    </tr>\n",
       "  </tbody>\n",
       "</table>\n",
       "<p>1 rows × 7755 columns</p>\n",
       "</div>"
      ],
      "text/plain": [
       "      level_0                    url  _label_  aa  aba  abaixo  abastecimento  \\\n",
       "8559     8559  emefarmaonline.com.br        0   0    0       1              0   \n",
       "\n",
       "      abc  aberta  abertas     ...      yet  yoga  york  youtube  ze  zero  \\\n",
       "8559    0       0        0     ...        0     0     0        0   0     0   \n",
       "\n",
       "      zona  zoom  ProbEcomm  ProbEcomm_  \n",
       "8559     0     0    0.96902           6  \n",
       "\n",
       "[1 rows x 7755 columns]"
      ]
     },
     "execution_count": 109,
     "metadata": {},
     "output_type": "execute_result"
    }
   ],
   "source": [
    "Result[(Result.ProbEcomm_ == 6)&(Result._label_== 0)].sample()"
   ]
  },
  {
   "cell_type": "code",
   "execution_count": 114,
   "metadata": {
    "collapsed": false,
    "scrolled": true
   },
   "outputs": [
    {
     "data": {
      "text/html": [
       "<div>\n",
       "<table border=\"1\" class=\"dataframe\">\n",
       "  <thead>\n",
       "    <tr style=\"text-align: right;\">\n",
       "      <th></th>\n",
       "      <th>level_0</th>\n",
       "      <th>url</th>\n",
       "      <th>_label_</th>\n",
       "      <th>aa</th>\n",
       "      <th>aba</th>\n",
       "      <th>abaixo</th>\n",
       "      <th>abastecimento</th>\n",
       "      <th>abc</th>\n",
       "      <th>aberta</th>\n",
       "      <th>abertas</th>\n",
       "      <th>...</th>\n",
       "      <th>yet</th>\n",
       "      <th>yoga</th>\n",
       "      <th>york</th>\n",
       "      <th>youtube</th>\n",
       "      <th>ze</th>\n",
       "      <th>zero</th>\n",
       "      <th>zona</th>\n",
       "      <th>zoom</th>\n",
       "      <th>ProbEcomm</th>\n",
       "      <th>ProbEcomm_</th>\n",
       "    </tr>\n",
       "  </thead>\n",
       "  <tbody>\n",
       "    <tr>\n",
       "      <th>3968</th>\n",
       "      <td>3968</td>\n",
       "      <td>clickviagens.com</td>\n",
       "      <td>1</td>\n",
       "      <td>0</td>\n",
       "      <td>0</td>\n",
       "      <td>2</td>\n",
       "      <td>0</td>\n",
       "      <td>0</td>\n",
       "      <td>0</td>\n",
       "      <td>0</td>\n",
       "      <td>...</td>\n",
       "      <td>0</td>\n",
       "      <td>0</td>\n",
       "      <td>2</td>\n",
       "      <td>0</td>\n",
       "      <td>0</td>\n",
       "      <td>0</td>\n",
       "      <td>0</td>\n",
       "      <td>0</td>\n",
       "      <td>0.997586</td>\n",
       "      <td>9</td>\n",
       "    </tr>\n",
       "    <tr>\n",
       "      <th>8244</th>\n",
       "      <td>8244</td>\n",
       "      <td>mservicedistribuidora.com.br</td>\n",
       "      <td>1</td>\n",
       "      <td>0</td>\n",
       "      <td>0</td>\n",
       "      <td>0</td>\n",
       "      <td>0</td>\n",
       "      <td>0</td>\n",
       "      <td>0</td>\n",
       "      <td>0</td>\n",
       "      <td>...</td>\n",
       "      <td>0</td>\n",
       "      <td>0</td>\n",
       "      <td>0</td>\n",
       "      <td>1</td>\n",
       "      <td>0</td>\n",
       "      <td>0</td>\n",
       "      <td>0</td>\n",
       "      <td>0</td>\n",
       "      <td>0.997535</td>\n",
       "      <td>9</td>\n",
       "    </tr>\n",
       "    <tr>\n",
       "      <th>8418</th>\n",
       "      <td>8418</td>\n",
       "      <td>titanium.autobrasil24h.com.br</td>\n",
       "      <td>1</td>\n",
       "      <td>0</td>\n",
       "      <td>0</td>\n",
       "      <td>0</td>\n",
       "      <td>0</td>\n",
       "      <td>0</td>\n",
       "      <td>0</td>\n",
       "      <td>0</td>\n",
       "      <td>...</td>\n",
       "      <td>0</td>\n",
       "      <td>0</td>\n",
       "      <td>0</td>\n",
       "      <td>0</td>\n",
       "      <td>0</td>\n",
       "      <td>0</td>\n",
       "      <td>0</td>\n",
       "      <td>0</td>\n",
       "      <td>0.997556</td>\n",
       "      <td>9</td>\n",
       "    </tr>\n",
       "    <tr>\n",
       "      <th>12395</th>\n",
       "      <td>12395</td>\n",
       "      <td>crg2rastrear.autobrasil24h.com.br</td>\n",
       "      <td>1</td>\n",
       "      <td>0</td>\n",
       "      <td>0</td>\n",
       "      <td>0</td>\n",
       "      <td>0</td>\n",
       "      <td>0</td>\n",
       "      <td>0</td>\n",
       "      <td>0</td>\n",
       "      <td>...</td>\n",
       "      <td>0</td>\n",
       "      <td>0</td>\n",
       "      <td>0</td>\n",
       "      <td>0</td>\n",
       "      <td>0</td>\n",
       "      <td>0</td>\n",
       "      <td>0</td>\n",
       "      <td>0</td>\n",
       "      <td>0.997556</td>\n",
       "      <td>9</td>\n",
       "    </tr>\n",
       "  </tbody>\n",
       "</table>\n",
       "<p>4 rows × 7755 columns</p>\n",
       "</div>"
      ],
      "text/plain": [
       "       level_0                                url  _label_  aa  aba  abaixo  \\\n",
       "3968      3968                   clickviagens.com        1   0    0       2   \n",
       "8244      8244       mservicedistribuidora.com.br        1   0    0       0   \n",
       "8418      8418      titanium.autobrasil24h.com.br        1   0    0       0   \n",
       "12395    12395  crg2rastrear.autobrasil24h.com.br        1   0    0       0   \n",
       "\n",
       "       abastecimento  abc  aberta  abertas     ...      yet  yoga  york  \\\n",
       "3968               0    0       0        0     ...        0     0     2   \n",
       "8244               0    0       0        0     ...        0     0     0   \n",
       "8418               0    0       0        0     ...        0     0     0   \n",
       "12395              0    0       0        0     ...        0     0     0   \n",
       "\n",
       "       youtube  ze  zero  zona  zoom  ProbEcomm  ProbEcomm_  \n",
       "3968         0   0     0     0     0   0.997586           9  \n",
       "8244         1   0     0     0     0   0.997535           9  \n",
       "8418         0   0     0     0     0   0.997556           9  \n",
       "12395        0   0     0     0     0   0.997556           9  \n",
       "\n",
       "[4 rows x 7755 columns]"
      ]
     },
     "execution_count": 114,
     "metadata": {},
     "output_type": "execute_result"
    }
   ],
   "source": [
    "Result[(Result.ProbEcomm_ == 9)&(Result._label_== 1)].sample(4)"
   ]
  },
  {
   "cell_type": "code",
   "execution_count": 105,
   "metadata": {
    "collapsed": false,
    "scrolled": true
   },
   "outputs": [
    {
     "data": {
      "text/plain": [
       "(399, 7755)"
      ]
     },
     "execution_count": 105,
     "metadata": {},
     "output_type": "execute_result"
    }
   ],
   "source": [
    "#Result[(Result.loja>=1)&(Result.online>=1)].shape\n",
    "Result[(Result.loja>=1)&(Result.virtual>=1)].shape\n"
   ]
  },
  {
   "cell_type": "code",
   "execution_count": 67,
   "metadata": {
    "collapsed": true
   },
   "outputs": [],
   "source": [
    "palavras = list(Result.drop(['level_0', 'url', '_label_', 'ProbEcomm', 'ProbEcomm_'], axis=1).columns)"
   ]
  },
  {
   "cell_type": "code",
   "execution_count": 73,
   "metadata": {
    "collapsed": false
   },
   "outputs": [],
   "source": [
    "auxiliar = Result[Result.level_0 == 10][palavras].values\n",
    "auxiliar = auxiliar.tolist()\n",
    "auxiliar = auxiliar[0]"
   ]
  },
  {
   "cell_type": "code",
   "execution_count": 74,
   "metadata": {
    "collapsed": false
   },
   "outputs": [],
   "source": [
    "aux = range(len(auxiliar))"
   ]
  },
  {
   "cell_type": "code",
   "execution_count": 75,
   "metadata": {
    "collapsed": true
   },
   "outputs": [],
   "source": [
    "palavras_utilizadas = list()"
   ]
  },
  {
   "cell_type": "code",
   "execution_count": 76,
   "metadata": {
    "collapsed": false
   },
   "outputs": [],
   "source": [
    "for a in aux:\n",
    "    if auxiliar[a] != 0:\n",
    "        palavras_utilizadas.append(palavras[a])"
   ]
  },
  {
   "cell_type": "code",
   "execution_count": 77,
   "metadata": {
    "collapsed": false
   },
   "outputs": [
    {
     "data": {
      "text/plain": [
       "['acesse',\n",
       " 'acessorios',\n",
       " 'acima',\n",
       " 'antiga',\n",
       " 'aproveitar',\n",
       " 'aqui',\n",
       " 'assinar',\n",
       " 'ate',\n",
       " 'baby',\n",
       " 'bater',\n",
       " 'beach',\n",
       " 'bem',\n",
       " 'bermudas',\n",
       " 'bones',\n",
       " 'browser',\n",
       " 'buscar',\n",
       " 'cadastrese',\n",
       " 'cadastro',\n",
       " 'calcados',\n",
       " 'camisas',\n",
       " 'camiseta',\n",
       " 'camisetas',\n",
       " 'campos',\n",
       " 'carrinho',\n",
       " 'cartao',\n",
       " 'categorias',\n",
       " 'ce',\n",
       " 'cep',\n",
       " 'chat',\n",
       " 'cnpj',\n",
       " 'compra',\n",
       " 'comprar',\n",
       " 'compras',\n",
       " 'confeccoes',\n",
       " 'copos',\n",
       " 'desconto',\n",
       " 'devolucoes',\n",
       " 'disabled',\n",
       " 'duvidas',\n",
       " 'email',\n",
       " 'entrar',\n",
       " 'enviar',\n",
       " 'fale',\n",
       " 'faq',\n",
       " 'feedback',\n",
       " 'feminino',\n",
       " 'formas',\n",
       " 'frete',\n",
       " 'funcionalidades',\n",
       " 'ganhe',\n",
       " 'gente',\n",
       " 'gratis',\n",
       " 'habilitar',\n",
       " 'industria',\n",
       " 'informacoes',\n",
       " 'inicio',\n",
       " 'item',\n",
       " 'javascript',\n",
       " 'jeans',\n",
       " 'juros',\n",
       " 'la',\n",
       " 'ligue',\n",
       " 'live',\n",
       " 'login',\n",
       " 'loja',\n",
       " 'look',\n",
       " 'ltda',\n",
       " 'masculina',\n",
       " 'masculino',\n",
       " 'meias',\n",
       " 'moda',\n",
       " 'navegador',\n",
       " 'nenhum',\n",
       " 'newsletter',\n",
       " 'obrigatorios',\n",
       " 'oculos',\n",
       " 'online',\n",
       " 'pagamento',\n",
       " 'pague',\n",
       " 'papo',\n",
       " 'peixoto',\n",
       " 'plus',\n",
       " 'politica',\n",
       " 'polos',\n",
       " 'powered',\n",
       " 'precisa',\n",
       " 'preco',\n",
       " 'preferir',\n",
       " 'primeira',\n",
       " 'privacidade',\n",
       " 'procurar',\n",
       " 'produto',\n",
       " 'promocional',\n",
       " 'questions',\n",
       " 'quiser',\n",
       " 'redes',\n",
       " 'redonda',\n",
       " 'regulamento',\n",
       " 'rua',\n",
       " 'sac',\n",
       " 'sao',\n",
       " 'seems',\n",
       " 'segunda',\n",
       " 'sexta',\n",
       " 'site',\n",
       " 'size',\n",
       " 'sociais',\n",
       " 'software',\n",
       " 'sol',\n",
       " 'star',\n",
       " 'surf',\n",
       " 'ta',\n",
       " 'tempo',\n",
       " 'tenis',\n",
       " 'tire',\n",
       " 'todos',\n",
       " 'troca',\n",
       " 'trocas',\n",
       " 'tropical',\n",
       " 'vez',\n",
       " 'vindo',\n",
       " 'voce']"
      ]
     },
     "execution_count": 77,
     "metadata": {},
     "output_type": "execute_result"
    }
   ],
   "source": [
    "palavras_utilizadas"
   ]
  },
  {
   "cell_type": "code",
   "execution_count": null,
   "metadata": {
    "collapsed": true
   },
   "outputs": [],
   "source": []
  },
  {
   "cell_type": "code",
   "execution_count": null,
   "metadata": {
    "collapsed": true
   },
   "outputs": [],
   "source": []
  },
  {
   "cell_type": "code",
   "execution_count": null,
   "metadata": {
    "collapsed": true
   },
   "outputs": [],
   "source": []
  },
  {
   "cell_type": "code",
   "execution_count": null,
   "metadata": {
    "collapsed": true
   },
   "outputs": [],
   "source": []
  },
  {
   "cell_type": "code",
   "execution_count": null,
   "metadata": {
    "collapsed": true
   },
   "outputs": [],
   "source": [
    "carrinho\n"
   ]
  },
  {
   "cell_type": "code",
   "execution_count": 128,
   "metadata": {
    "collapsed": true
   },
   "outputs": [],
   "source": [
    "#Perc.append(np.percentile(variavel, percentiles[i]))\n",
    "valores = list()"
   ]
  },
  {
   "cell_type": "code",
   "execution_count": 129,
   "metadata": {
    "collapsed": false
   },
   "outputs": [],
   "source": [
    "aa = Result[Result.level_0 == 14906].aa\n",
    "valores.append(aa)\n",
    "abaixo = Result[Result.level_0 == 14906].abaixo\n",
    "valores.append(abaixo)"
   ]
  },
  {
   "cell_type": "code",
   "execution_count": 136,
   "metadata": {
    "collapsed": false
   },
   "outputs": [
    {
     "data": {
      "text/plain": [
       "14906    0\n",
       "Name: abaixo, dtype: int64"
      ]
     },
     "execution_count": 136,
     "metadata": {},
     "output_type": "execute_result"
    }
   ],
   "source": [
    "Result[Result.level_0 == 14906].abaixo*1"
   ]
  },
  {
   "cell_type": "code",
   "execution_count": null,
   "metadata": {
    "collapsed": true
   },
   "outputs": [],
   "source": [
    "def reune_palavras(url):\n",
    "    return"
   ]
  },
  {
   "cell_type": "code",
   "execution_count": 90,
   "metadata": {
    "collapsed": true
   },
   "outputs": [],
   "source": [
    "Result['palavras'] =' '"
   ]
  },
  {
   "cell_type": "code",
   "execution_count": 96,
   "metadata": {
    "collapsed": false
   },
   "outputs": [
    {
     "data": {
      "text/html": [
       "<div>\n",
       "<table border=\"1\" class=\"dataframe\">\n",
       "  <thead>\n",
       "    <tr style=\"text-align: right;\">\n",
       "      <th></th>\n",
       "      <th>level_0</th>\n",
       "      <th>url</th>\n",
       "      <th>_label_</th>\n",
       "      <th>aa</th>\n",
       "      <th>abaixo</th>\n",
       "      <th>abastecimento</th>\n",
       "      <th>abc</th>\n",
       "      <th>abdominal</th>\n",
       "      <th>aberta</th>\n",
       "      <th>abertas</th>\n",
       "      <th>...</th>\n",
       "      <th>yet</th>\n",
       "      <th>yoga</th>\n",
       "      <th>york</th>\n",
       "      <th>youtube</th>\n",
       "      <th>ze</th>\n",
       "      <th>zero</th>\n",
       "      <th>zona</th>\n",
       "      <th>zoom</th>\n",
       "      <th>ProbEcomm</th>\n",
       "      <th>ProbEcomm_</th>\n",
       "    </tr>\n",
       "  </thead>\n",
       "  <tbody>\n",
       "    <tr>\n",
       "      <th>14906</th>\n",
       "      <td>14906</td>\n",
       "      <td>pilotocivil.com.br</td>\n",
       "      <td>0</td>\n",
       "      <td>0</td>\n",
       "      <td>0</td>\n",
       "      <td>0</td>\n",
       "      <td>0</td>\n",
       "      <td>0</td>\n",
       "      <td>0</td>\n",
       "      <td>0</td>\n",
       "      <td>...</td>\n",
       "      <td>0</td>\n",
       "      <td>0</td>\n",
       "      <td>0</td>\n",
       "      <td>0</td>\n",
       "      <td>0</td>\n",
       "      <td>0</td>\n",
       "      <td>0</td>\n",
       "      <td>0</td>\n",
       "      <td>0.200188</td>\n",
       "      <td>2</td>\n",
       "    </tr>\n",
       "  </tbody>\n",
       "</table>\n",
       "<p>1 rows × 7585 columns</p>\n",
       "</div>"
      ],
      "text/plain": [
       "       level_0                 url  _label_  aa  abaixo  abastecimento  abc  \\\n",
       "14906    14906  pilotocivil.com.br        0   0       0              0    0   \n",
       "\n",
       "       abdominal  aberta  abertas     ...      yet  yoga  york  youtube  ze  \\\n",
       "14906          0       0        0     ...        0     0     0        0   0   \n",
       "\n",
       "       zero  zona  zoom  ProbEcomm  ProbEcomm_  \n",
       "14906     0     0     0   0.200188           2  \n",
       "\n",
       "[1 rows x 7585 columns]"
      ]
     },
     "execution_count": 96,
     "metadata": {},
     "output_type": "execute_result"
    }
   ],
   "source": [
    "Result[Result.level_0== 14906]"
   ]
  },
  {
   "cell_type": "code",
   "execution_count": 112,
   "metadata": {
    "collapsed": false
   },
   "outputs": [
    {
     "data": {
      "text/plain": [
       "7579"
      ]
     },
     "execution_count": 112,
     "metadata": {},
     "output_type": "execute_result"
    }
   ],
   "source": [
    "len(palavras)"
   ]
  },
  {
   "cell_type": "code",
   "execution_count": 114,
   "metadata": {
    "collapsed": false
   },
   "outputs": [
    {
     "ename": "ValueError",
     "evalue": "The truth value of a Series is ambiguous. Use a.empty, a.bool(), a.item(), a.any() or a.all().",
     "output_type": "error",
     "traceback": [
      "\u001b[0;31m---------------------------------------------------------------------------\u001b[0m",
      "\u001b[0;31mValueError\u001b[0m                                Traceback (most recent call last)",
      "\u001b[0;32m<ipython-input-114-ffade61ffd4a>\u001b[0m in \u001b[0;36m<module>\u001b[0;34m()\u001b[0m\n\u001b[1;32m      1\u001b[0m \u001b[0mteste\u001b[0m \u001b[1;33m=\u001b[0m \u001b[0mResult\u001b[0m\u001b[1;33m[\u001b[0m\u001b[0mResult\u001b[0m\u001b[1;33m.\u001b[0m\u001b[0mlevel_0\u001b[0m \u001b[1;33m==\u001b[0m \u001b[1;36m14906\u001b[0m\u001b[1;33m]\u001b[0m\u001b[1;33m.\u001b[0m\u001b[0mcopy\u001b[0m\u001b[1;33m(\u001b[0m\u001b[1;33m)\u001b[0m\u001b[1;33m\u001b[0m\u001b[0m\n\u001b[1;32m      2\u001b[0m \u001b[1;32mfor\u001b[0m \u001b[0mi\u001b[0m \u001b[1;32min\u001b[0m \u001b[0mrange\u001b[0m\u001b[1;33m(\u001b[0m\u001b[0mlen\u001b[0m\u001b[1;33m(\u001b[0m\u001b[0mpalavras\u001b[0m\u001b[1;33m)\u001b[0m\u001b[1;33m)\u001b[0m\u001b[1;33m:\u001b[0m\u001b[1;33m\u001b[0m\u001b[0m\n\u001b[0;32m----> 3\u001b[0;31m      \u001b[1;32mif\u001b[0m \u001b[0mteste\u001b[0m\u001b[1;33m[\u001b[0m\u001b[0mpalavras\u001b[0m\u001b[1;33m[\u001b[0m\u001b[0mi\u001b[0m\u001b[1;33m]\u001b[0m\u001b[1;33m]\u001b[0m \u001b[1;33m==\u001b[0m \u001b[1;36m0\u001b[0m\u001b[1;33m:\u001b[0m\u001b[1;33m\u001b[0m\u001b[0m\n\u001b[0m\u001b[1;32m      4\u001b[0m         \u001b[0mprint\u001b[0m\u001b[1;33m(\u001b[0m\u001b[1;34m'não'\u001b[0m\u001b[1;33m)\u001b[0m\u001b[1;33m\u001b[0m\u001b[0m\n\u001b[1;32m      5\u001b[0m \u001b[1;33m\u001b[0m\u001b[0m\n",
      "\u001b[0;32mD:\\Users\\felipe.santos\\AppData\\Local\\Continuum\\Anaconda3\\lib\\site-packages\\pandas\\core\\generic.py\u001b[0m in \u001b[0;36m__nonzero__\u001b[0;34m(self)\u001b[0m\n\u001b[1;32m    890\u001b[0m         raise ValueError(\"The truth value of a {0} is ambiguous. \"\n\u001b[1;32m    891\u001b[0m                          \u001b[1;34m\"Use a.empty, a.bool(), a.item(), a.any() or a.all().\"\u001b[0m\u001b[1;33m\u001b[0m\u001b[0m\n\u001b[0;32m--> 892\u001b[0;31m                          .format(self.__class__.__name__))\n\u001b[0m\u001b[1;32m    893\u001b[0m \u001b[1;33m\u001b[0m\u001b[0m\n\u001b[1;32m    894\u001b[0m     \u001b[0m__bool__\u001b[0m \u001b[1;33m=\u001b[0m \u001b[0m__nonzero__\u001b[0m\u001b[1;33m\u001b[0m\u001b[0m\n",
      "\u001b[0;31mValueError\u001b[0m: The truth value of a Series is ambiguous. Use a.empty, a.bool(), a.item(), a.any() or a.all()."
     ]
    }
   ],
   "source": [
    "teste = Result[Result.level_0 == 14906].copy()\n",
    "for i in range(len(palavras)):\n",
    "     if teste[palavras[i]] == 0:\n",
    "        print('não')\n",
    "    "
   ]
  },
  {
   "cell_type": "code",
   "execution_count": null,
   "metadata": {
    "collapsed": true
   },
   "outputs": [],
   "source": [
    "def cria_curva(percentiles, variavel):\n",
    "    Perc = list()\n",
    "    for i in range(len(percentiles)):\n",
    "        Perc.append(np.percentile(variavel, percentiles[i]))\n",
    "    return Perc"
   ]
  },
  {
   "cell_type": "code",
   "execution_count": null,
   "metadata": {
    "collapsed": true
   },
   "outputs": [],
   "source": []
  },
  {
   "cell_type": "code",
   "execution_count": null,
   "metadata": {
    "collapsed": true
   },
   "outputs": [],
   "source": []
  },
  {
   "cell_type": "code",
   "execution_count": null,
   "metadata": {
    "collapsed": true
   },
   "outputs": [],
   "source": []
  },
  {
   "cell_type": "code",
   "execution_count": null,
   "metadata": {
    "collapsed": true
   },
   "outputs": [],
   "source": []
  }
 ],
 "metadata": {
  "anaconda-cloud": {},
  "kernelspec": {
   "display_name": "Python [default]",
   "language": "python",
   "name": "python3"
  },
  "language_info": {
   "codemirror_mode": {
    "name": "ipython",
    "version": 3
   },
   "file_extension": ".py",
   "mimetype": "text/x-python",
   "name": "python",
   "nbconvert_exporter": "python",
   "pygments_lexer": "ipython3",
   "version": "3.5.2"
  }
 },
 "nbformat": 4,
 "nbformat_minor": 2
}
